{
  "nbformat": 4,
  "nbformat_minor": 0,
  "metadata": {
    "colab": {
      "name": "Hypothesis_Text_Classification_NLP.ipynb",
      "provenance": [],
      "collapsed_sections": []
    },
    "kernelspec": {
      "name": "python3",
      "display_name": "Python 3"
    }
  },
  "cells": [
    {
      "cell_type": "code",
      "metadata": {
        "id": "XgVIkccoX6q3"
      },
      "source": [
        "# Importing required packages\r\n",
        "import pandas as pd\r\n",
        "import numpy as np\r\n",
        "from google.colab import drive\r\n",
        "import nltk\r\n",
        "from nltk import word_tokenize, FreqDist  \r\n",
        "import sys\r\n",
        "import io\r\n",
        "import glob, os\r\n",
        "import re\r\n",
        "import codecs\r\n",
        "import warnings\r\n",
        "warnings.filterwarnings('ignore')"
      ],
      "execution_count": 191,
      "outputs": []
    },
    {
      "cell_type": "code",
      "metadata": {
        "colab": {
          "base_uri": "https://localhost:8080/"
        },
        "id": "aLvnThiNhYMm",
        "outputId": "993a11e4-d4c4-48dc-b169-fc9b4704398b"
      },
      "source": [
        "nltk.download('punkt')\r\n",
        "from nltk.tokenize import sent_tokenize"
      ],
      "execution_count": 192,
      "outputs": [
        {
          "output_type": "stream",
          "text": [
            "[nltk_data] Downloading package punkt to /root/nltk_data...\n",
            "[nltk_data]   Package punkt is already up-to-date!\n"
          ],
          "name": "stdout"
        }
      ]
    },
    {
      "cell_type": "code",
      "metadata": {
        "colab": {
          "base_uri": "https://localhost:8080/"
        },
        "id": "OsHEn-KTqpiP",
        "outputId": "3c41ff40-aad7-47d1-8dc3-b113383308bf"
      },
      "source": [
        "pip install pdfminer"
      ],
      "execution_count": 193,
      "outputs": [
        {
          "output_type": "stream",
          "text": [
            "Requirement already satisfied: pdfminer in /usr/local/lib/python3.6/dist-packages (20191125)\n",
            "Requirement already satisfied: pycryptodome in /usr/local/lib/python3.6/dist-packages (from pdfminer) (3.9.9)\n"
          ],
          "name": "stdout"
        }
      ]
    },
    {
      "cell_type": "code",
      "metadata": {
        "id": "ATlBhrXWqyLp"
      },
      "source": [
        "from pdfminer.pdfinterp import PDFResourceManager, PDFPageInterpreter\r\n",
        "from pdfminer.pdfpage import PDFPage\r\n",
        "from pdfminer.converter import XMLConverter, HTMLConverter, TextConverter\r\n",
        "from pdfminer.layout import LAParams"
      ],
      "execution_count": 194,
      "outputs": []
    },
    {
      "cell_type": "code",
      "metadata": {
        "colab": {
          "base_uri": "https://localhost:8080/"
        },
        "id": "gD-Rc6mAaWai",
        "outputId": "683bcbfb-a257-4c90-e8e9-8850eac9f4a6"
      },
      "source": [
        "drive.mount('/content/drive')"
      ],
      "execution_count": 195,
      "outputs": [
        {
          "output_type": "stream",
          "text": [
            "Drive already mounted at /content/drive; to attempt to forcibly remount, call drive.mount(\"/content/drive\", force_remount=True).\n"
          ],
          "name": "stdout"
        }
      ]
    },
    {
      "cell_type": "code",
      "metadata": {
        "id": "h4pqySqAq5pg"
      },
      "source": [
        "# Adopted code from https://github.com/felipemontano10/NLP-Causality-Extraction\r\n",
        "#List of pdf documents\r\n",
        "pdf = []\r\n",
        "for file in glob.glob(\"/content/drive/My Drive/NLP/PDF/Doc PDFs/*.pdf\"):\r\n",
        "    pdf.append(file)\r\n",
        "print(len(pdf))\r\n",
        "\r\n",
        "# #Function to parse pdf files into text files \r\n",
        "def pdfparser(data):\r\n",
        "    fp = open(data, 'rb')\r\n",
        "    rsrcmgr = PDFResourceManager()\r\n",
        "    retstr = io.StringIO()\r\n",
        "    codec = 'utf-8'\r\n",
        "    laparams = LAParams()\r\n",
        "    device = TextConverter(rsrcmgr, retstr, laparams=laparams)\r\n",
        "    # Create a PDF interpreter object.\r\n",
        "    interpreter = PDFPageInterpreter(rsrcmgr, device)\r\n",
        "    # Process each page contained in the document.\r\n",
        "    for page in PDFPage.get_pages(fp):\r\n",
        "        interpreter.process_page(page)\r\n",
        "        data_out =  retstr.getvalue()\r\n",
        "    b = data[:-4]+'.txt'\r\n",
        "    f = open(b, 'w', encoding=\"utf-8\")\r\n",
        "    f.write(data_out)\r\n",
        "    f.close\r\n",
        "  \r\n",
        "# Get the .txt files\r\n",
        "for i in pdf:\r\n",
        "    pdfparser(i)"
      ],
      "execution_count": 196,
      "outputs": []
    },
    {
      "cell_type": "code",
      "metadata": {
        "colab": {
          "base_uri": "https://localhost:8080/"
        },
        "id": "9jbz1uPwzDrm",
        "outputId": "35e0b346-80f4-4420-ad3b-1bd01fcb8160"
      },
      "source": [
        "## Set drive_path\r\n",
        "drive_path = '/content/drive/My Drive/NLP/PDF/Doc PDFs/'\r\n",
        "def load_in_data(drive_path):  \r\n",
        "\r\n",
        "    os.chdir(drive_path)\r\n",
        "    \r\n",
        "    ## List the file names in the folder\r\n",
        "    files = [x for x in os.listdir() if '.txt' in x]\r\n",
        "    \r\n",
        "    files.sort()\r\n",
        "    \r\n",
        "    text_data = ['']*len(files)\r\n",
        "    \r\n",
        "    i = 0\r\n",
        "    for j in files:\r\n",
        "        with open(j, encoding='utf-8') as file:\r\n",
        "            text_data[i] = file.read()\r\n",
        "        i = i+1\r\n",
        "    \r\n",
        "    ## Create a dict that matches file names to their text counterparts\r\n",
        "    \r\n",
        "    text_files_dict = {files[i]: text_data[i] for i in range(len(files))} \r\n",
        "    \r\n",
        "    return files, text_data, text_files_dict\r\n",
        "\r\n",
        "files, text_data, text_files_dict = load_in_data(drive_path)\r\n",
        "print(files)"
      ],
      "execution_count": 197,
      "outputs": [
        {
          "output_type": "stream",
          "text": [
            "['a94amj.txt', 'adg08hrm.txt', 'afglmm10hrm.txt', 'am79amj.txt', 'amr.2019.0470.txt', 'ap81asq.txt', 'ar78amj.txt', 'atc05ijhrm.txt', 'ay14ijbs.txt', 'azw06meq.txt', 'b04ilr.txt', 'b99ilr.txt', 'bb95jibs.txt', 'bc11amj.txt', 'bc15apjm.txt', 'bgd05jom.txt', 'bl00aeam.txt', 'bl00amj.txt', 'bm05jbe.txt', 'bm72rm.txt', 'bmp09bjm.txt', 'bnk00jbr.txt', 'bp04beer.txt', 'bp06jms.txt', 'bp94amj.txt', 'breb08jom.txt', 'brm11jbe.txt', 'bs05jams.txt', 'bss03amj.txt', 'bw04jbr.txt', 'ces06ee.txt', 'cg01aaaj.txt', 'cg05smj.txt', 'chl08hrm.txt', 'chl09ijhrm.txt', 'ck99smj.txt', 'ckc10ajm.txt', 'cl09etp.txt', 'cl10pp.txt', 'clrv08aos.txt', 'cls06jbe.txt', 'clv11ijhrm.txt', 'cm80ar.txt', 'cs06amj.txt', 'ct05crr.txt', 'ctsm08jem.txt', 'cw09smj.txt', 'cww15ijpdlm.txt', 'cys14jcp.txt', 'd00jom.txt', 'd03jom.txt', 'dc05jms.txt', 'dd96amj.txt', 'dhy00ms.txt', 'dj01amj.txt', 'dtba07jap.txt', 'ekks05smj.txt', 'fasttext_dataset.txt', 'fcwz15jcp.txt', 'fo05jom.txt', 'fs90amj.txt', 'g03ijhrm.txt', 'gac11ijtr.txt', 'gb04amj.txt', 'gi03pp.txt', 'gmcs03bjir.txt', 'gwde00jom.txt', 'h95amj.txt', 'hnn05ear.txt', 'jd98jms.txt', 'jk16jbe.txt', 'jv04amj.txt', 'jy11bjir.txt', 'k03jom.txt', 'kavsc06amj.txt', 'kb06ijhrm.txt', 'kl02ms.txt', 'km00smj.txt', 'kyr11ijsom.txt', 'lat13imds.txt', 'lb98gjhr.txt', 'lcy12ijebm.txt', 'lk09amj.txt', 'lkc12imds.txt', 'lm96os.txt', 'lpaf13jcp.txt', 'ltg13jcp.txt', 'lw98hrdq.txt', 'lwlm14amj.txt', 'm06aaaj.txt', 'mao10jbe.txt', 'mfb09jbe.txt', 'ml01jom.txt', 'mo05jbr.txt', 'mq13os.txt', 'ms10jbe.txt', 'mt09jms.txt', 'n00dissertation.txt', 'ntll98ijhrm.txt', 'pb00amj.txt', 'ppr10amj.txt', 'pwr09amj.txt', 'r92aos.txt', 'rbm09jbe.txt', 'rf97amj.txt', 'rffa98jom.txt', 's14isbj.txt', 'sc02amj.txt', 'sdjl05amj.txt', 'sgd05amj.txt', 'sh11jop.txt', 'sn10csrem.txt', 'snw07jom.txt', 'ss07etp.txt', 'ss98jbe.txt', 'sy04smj.txt', 'sz09amj.txt', 'szrgwdkd94mc.txt', 't05ajmp.txt', 't05ijhrm.txt', 'tbbc09halmstaduniversity.txt', 'tg96amj.txt', 'th08os.txt', 'tlwt07jap.txt', 'vfpbph09jap.txt', 'vt06mr.txt', 'w02jom.txt', 'w05pp.txt', 'w08csrem.txt', 'wa95amj.txt', 'wb93smj.txt', 'wmsm99ijhrm.txt', 'wq11amj.txt', 'wqk10jbe.txt', 'x13bse.txt', 'y07tqm.txt', 'zi06amj.txt', 'zmzttj11jcp.txt', 'zn02smj.txt', 'zsl14apjm.txt']\n"
          ],
          "name": "stdout"
        }
      ]
    },
    {
      "cell_type": "code",
      "metadata": {
        "colab": {
          "base_uri": "https://localhost:8080/",
          "height": 120
        },
        "id": "JY1O2Ize_ZKy",
        "outputId": "83c2e43c-1a4b-459f-afb2-c9ce79a9608f"
      },
      "source": [
        "# sample text extracted from the pdf files\r\n",
        "text_files_dict['a94amj.txt']"
      ],
      "execution_count": 198,
      "outputs": [
        {
          "output_type": "execute_result",
          "data": {
            "application/vnd.google.colaboratory.intrinsic+json": {
              "type": "string"
            },
            "text/plain": [
              "' \\n\\n \\n\\n \\n\\n \\n\\nEffects of Human Resource Systems on Manufacturing Performance and Turnover\\nAuthor(s): Jeffrey B. Arthur\\nSource: The Academy of Management Journal, Vol. 37, No. 3 (Jun., 1994), pp. 670-687\\nPublished by: Academy of Management\\nStable URL: https://www.jstor.org/stable/256705\\nAccessed: 01-02-2019 20:40 UTC\\n\\nJSTOR is a not-for-profit service that helps scholars, researchers, and students discover, use, and build upon a wide\\n\\nrange of content in a trusted digital archive. We use information technology and tools to increase productivity and\\n\\nfacilitate new forms of scholarship. For more information about JSTOR, please contact support@jstor.org.\\n\\nYour use of the JSTOR archive indicates your acceptance of the Terms & Conditions of Use, available at\\n\\nhttps://about.jstor.org/terms\\n\\nAcademy of Management is collaborating with JSTOR to digitize, preserve and extend access\\nto The Academy of Management Journal\\n\\nThis content downloaded from 152.15.47.133 on Fri, 01 Feb 2019 20:40:51 UTC\\nAll use subject to https://about.jstor.org/terms\\n\\n\\x0c ? Academy of Management Journal\\n 1994, Vol. 37, No. 3, 670-687.\\n\\n EFFECTS OF HUMAN RESOURCE SYSTEMS ON\\n\\n MANUFACTURING PERFORMANCE AND TURNOVER\\n\\n JEFFREY B. ARTHUR\\n Purdue University\\n\\n Using an empirical taxonomy identifying two types of human resource\\n systems, \"control\" and \"commitment,\" this study tested the strategic\\n human resource proposition that specific combinations of policies and\\n practices are useful in predicting differences in performance and turn-\\n over across steel \"minimills.\" The mills with commitment systems had\\n higher productivity, lower scrap rates, and lower employee turnover\\n than those with control systems. In addition, human resource system\\n moderated the relationship between turnover and manufacturing per-\\n formance.\\n\\n Long a concern among organizational contingency theory researchers,\\n the concept of the congruence, or fit, between diverse sets of organizational\\n policies and practices has recently emerged as an important subject of study\\n for human resources management researchers. This new strategic, macro,\\n human resource management perspective differs markedly from the more\\n traditional approach focusing on the effects of separate human resource\\n practices on individual-level outcomes (Butler, Ferris, & Napier, 1991; Jack-\\n son, Schuler, & Rivero, 1989; Mahoney & Deckup, 1986; Snell, 1992). In\\n contrast, the strategic human resource management perspective integrates\\n macro-level theories and concepts to explore the impact of specific config-\\n urations, or systems, of human resource activities on organization-level per-\\n formance outcomes (Dyer & Holder, 1988; Fisher, 1989; Wright & McMahan,\\n 1992).\\n\\n Dobbins, Cardy, and Carson pointed out that although a macro approach\\n to studying human resource issues appears promising and conceptually very\\n rich, \"the validity of its propositions is ultimately an empirical question\"\\n (1991: 33). Empirical evidence demonstrating the predictive value of the\\n strategic human resource perspective, however, has not been forthcoming.\\n Conceptual typologies abound in this literature, but empirically based tax-\\n onomies of human resource strategies are rare. As a result, basic hypotheses\\n concerning the implications for firm performance that flow from the strate-\\n gic human resource perspective have generally not been tested. A recent\\n\\n I would like to thank Steven G. Green, Margaret L. Williams, Michael A. Campion, Chris J.\\n\\n Berger, Harry C. Katz, and three anonymous reviewers for helpful comments on previous drafts\\n of this article.\\n\\n 670\\n\\nThis content downloaded from 152.15.47.133 on Fri, 01 Feb 2019 20:40:51 UTC\\nAll use subject to https://about.jstor.org/terms\\n\\n\\x0c 1994\\n\\n Arthur\\n\\n 671\\n\\n review of strategic human resource management, for example, concluded\\n that \"there is little empirical evidence to suggest that strategic HR directly\\n influences organizational performance or competitive advantage\" (Leng-\\n nick-Hall & Lengnick-Hall, 1988: 468).\\n\\n In this study, I addressed this important gap in the existing literature by\\n\\n empirically testing specific organizational performance hypotheses flowing\\n from a strategic human resource management perspective. To accomplish\\n this, I drew on the results of a previous study that used a cluster analysis\\n technique to empirically identify two types of human resource systems,\\n labeled \"control\" and \"commitment\" systems, in a sample of steel minimills\\n (Arthur, 1992).1 I developed and tested propositions regarding the utility of\\n this human resource system taxonomy for predicting both manufacturing\\n performance, measured as labor efficiency and scrap rate, and the level of\\n employee turnover in steel minimills. In addition, I tested the proposition\\n that the relationship between turnover and manufacturing performance dif-\\n fers significantly across the two systems.\\n\\n THEORETICAL DEVELOPMENT AND HYPOTHESES\\n\\n Testing the strategic human resource perspective first requires catego-\\n rizing organizations into a meaningful typology of human resource systems.\\n Using the strategic perspective, a number of authors have suggested typol-\\n ogies (e.g., Dyer & Holder, 1988; Miles & Snow, 1984; Osterman, 1987;\\n Schuler & Jackson, 1987; Walton, 1985). Underlying the use of these typol-\\n ogies is the proposition that organizations differ in their basic approaches or\\n objectives in managing human assets. These objectives, often stated in terms\\n of desired employee characteristics, attitudes, and behaviors, are (or should\\n be) derived from a firm\\'s overall business goals and may be moderated by\\n factors internal and external to the organization (Schuler, 1992; Wright &\\n McMahan, 1992). However, because these typologies have not been consis-\\n tently measured, their validity and predictive power have not been assessed.\\n\\n Control and Commitment Human Resource Systems\\n\\n My earlier research (Arthur, 1992) is one of the first published attempts\\n to develop an empirical classification of firms based on human resource\\n system characteristics. Applying a cluster analysis technique to data from\\n human resource managers, I found that the variety of human resource pol-\\n icies and practices in 30 U.S. steel minimills could be meaningfully de-\\n scribed by six clusters, or systems. Further, I grouped those systems into two\\n broad categories based on their characteristics and the functions they served\\n and labeled them \"cost reducers\" and \"commitment maximizers.\" To main-\\n\\n tain consistency with previous research on human resource strategy (Lawler,\\n\\n 1 Minimills are relatively small steel-producing facilities in which metal scrap is melted in\\n\\n electric furnaces and continuously cast into a variety of shapes and grades of steel. Detailed\\n discussion of minimills can be found in Barnett and Crandall (1986) and Hogan (1987).\\n\\nThis content downloaded from 152.15.47.133 on Fri, 01 Feb 2019 20:40:51 UTC\\nAll use subject to https://about.jstor.org/terms\\n\\n\\x0c 672\\n\\n Academy of Management Journal\\n\\n June\\n\\n 1986; Walton, 1985), I have labeled those systems \"control\" and \"commit-\\n ment\" in this study.\\n\\n Control and commitment represent two distinct approaches to shaping\\n\\n employee behaviors and attitudes at work. The goal of control human re-\\n source systems is to reduce direct labor costs, or improve efficiency, by\\n enforcing employee compliance with specified rules and procedures and\\n basing employee rewards on some measurable output criteria (Eisenhardt,\\n 1985; Walton, 1985). In contrast, commitment human resource systems\\n shape desired employee behaviors and attitudes by forging psychological\\n links between organizational and employee goals. In other words, the focus\\n is on developing committed employees who can be trusted to use their\\n discretion to carry out job tasks in ways that are consistent with organiza-\\n tional goals (e.g., Organ, 1988).\\n\\n The control and commitment approaches to human resource manage-\\n ment are expected to be represented by different sets of programs and prac-\\n tices. In my previous research (Arthur, 1992) I found that in general, com-\\n mitment human resource systems were characterized by higher levels of\\n employee involvement in managerial decisions, formal participation pro-\\n grams, training in group problem solving, and socializing activities and by\\n higher percentages of maintenance, or skilled, employees and average wage\\n rates. The present study\\'s methods section presents further details of these\\n system patterns.\\n\\n The existence of the control and commitment variations in organiza-\\n\\n tions is generally thought to be associated with certain organizational con-\\n ditions. Most human resource strategy researchers have taken a behavioral\\n perspective (cf. Snell, 1992). Research using this perspective rests on the\\n often implicit assumption that the successful implementation of a business\\n strategy requires a unique set of employee behaviors and attitudes and that\\n a unique set of human resource policies and practices will elicit those be-\\n haviors and attitudes (Cappelli & Singh, 1992). Alternatively, control theory\\n researchers (e.g., Eisenhardt, 1985; Ouchi, 1979; Snell, 1992) have noted that\\n the use of a control system depends on managers having a relatively com-\\n plete knowledge of the transformation process (inputs to outputs) and a high\\n ability to effectively set performance standards and measure employee out-\\n puts. These conditions enable employers to directly monitor and reward\\n employee behavior or the specific outcomes of that behavior. In the absence\\n of these conditions, an input, or clan, system is predicted, in which selec-\\n tion, training, and socialization policies that try to align employee interests\\n with those of the firm are emphasized (Eisenhardt, 1985).\\n\\n Hypotheses\\n\\n Human resource systems and manufacturing performance. Although\\n the above theoretical approaches suggest a contingency view of human re-\\n source system effectiveness, there are a number of reasons to believe that a\\n smoothly functioning commitment human resource system will be associ-\\n ated with higher organizational performance than will a control system, the\\n\\nThis content downloaded from 152.15.47.133 on Fri, 01 Feb 2019 20:40:51 UTC\\nAll use subject to https://about.jstor.org/terms\\n\\n\\x0c 1994\\n\\n Arthur\\n\\n 673\\n\\n more traditional human resource approach in manufacturing (Walton, 1985).\\n By decentralizing managerial decision making, setting up formal participa-\\n tion mechanisms, and providing the proper training and rewards, a commit-\\n ment system can lead to a highly motivated and empowered work force\\n whose goals are closely aligned with those of management (Thomas & Velt-\\n house, 1990). Thus, the resources required to monitor employee compliance,\\n such as those needed to maintain supervision and work rules, can be re-\\n duced (Locke & Schweiger, 1979). In addition, employees under these con-\\n ditions are thought to be more likely to engage in organizational citizenship\\n behaviors (Organ, 1988), nonrole, unrewarded behaviors that are believed to\\n be, nonetheless, critical to organizational success (e.g., Katz, 1964).\\n\\n A parallel set of arguments on the superior performance of commitment\\n systems can be found in the recent industrial relations literature (e.g.,\\n Kochan, Katz, & McKersie, 1986). Management\\'s attempt to implement a\\n classic control system for reducing labor costs by unilaterally increasing\\n performance standards and maintaining wages and benefits is likely to be\\n met by strong resistance from a unionized work force. Resistance in the form\\n of strikes, high grievance rates, and adversarial labor relations have been\\n found to be extremely costly to firms in terms of productivity and quality\\n (Cooke, 1992; Katz, Kochan, & Weber, 1985).\\n\\n Finally, although there continues to be debate concerning the condi-\\n tions under which the participative management practices associated with\\n commitment systems are effective (e.g., Levine & Tyson, 1990; Locke &\\n Schweiger, 1979), recent evidence suggests that these practices are espe-\\n cially critical for the effective implementation and utilization of advanced\\n manufacturing technology (Majchrzak, 1988; Dean & Snell, 1991). The\\n present study focused specifically on manufacturing performance, defined\\n by two production-process-related measures of organizational effectiveness,\\n labor efficiency and scrap rate. These performance outcomes are predicted to\\n be most directly affected by differences in employee behaviors and charac-\\n teristics as shaped by systems of human resource activities.\\n\\n Hypothesis 1: Plants with commitment human resource\\n systems will have better manufacturing performance than\\n plants with control human resource systems.\\n\\n Human resource systems and turnover. A vast literature exists on the\\n\\n determinants of employee turnover, long considered an important outcome\\n for both individuals and organizations. Most of this research has focused on\\n individual-level variables, such as employees\\' satisfaction with their jobs\\n and their organizational commitment (e.g., Cotton & Tuttle, 1986). In this\\n work, I tested the proposition that organization-level human resource char-\\n acteristics are also significantly related to the overall turnover in firms, ex-\\n pecting higher turnover in organizations with control systems than in those\\n with commitment systems.\\n\\n The basis for this prediction is the different objectives of control and\\n\\n commitment systems as manifested in different combinations of human re-\\n\\nThis content downloaded from 152.15.47.133 on Fri, 01 Feb 2019 20:40:51 UTC\\nAll use subject to https://about.jstor.org/terms\\n\\n\\x0c 674\\n\\n Academy of Management Journal\\n\\n June\\n\\n source policies and practices. As noted above, the driving force behind a\\n control system is to reduce direct labor costs. This goal is expected to be\\n manifested in the use of relatively simple, well-defined job tasks. Because\\n employees with a minimum amount of training and experience can perform\\n such tasks, wages and the costs of employee search, selection, and training\\n can also be minimized. Under these conditions, the costs of employee turn-\\n over to a firm are expected to be relatively low, so employers have very little\\n incentive to try to minimize turnover through human resource policies and\\n policies designed to increase employee commitment or attachment. In fact,\\n employee commitment might be considered dysfunctional since compensa-\\n tion is generally higher for senior employees than for similarly qualified new\\n employees.\\n\\n Hypothesis 2: Turnover will be higher in control human\\n resource systems than in commitment human resource\\n systems.\\n\\n Turnover and manufacturing performance. Since the late 1970s, re-\\n search on the consequences of employee turnover has generally compared\\n the cost and performance of individuals who leave an organization with\\n those of (1) their replacements, (2) those who stay with the organization, or\\n (3) both (e.g., Boudreau & Berger, 1985; Hollenbeck & Williams, 1986). A\\n potential limitation of this approach is that the effect of organizational con-\\n text is largely ignored. In other words, the departure of an individual with a\\n given level of assessed performance is assumed to have the same effect on\\n organizational performance across organizations.\\n\\n In contrast, the human resource strategy perspective suggests that the\\n effect of turnover level on organizational performance depends critically on\\n the nature of the context or system in which the turnover occurs (cf. Miller\\n & Friesen, 1984). System characteristics can be seen as affecting the perfor-\\n mance impact of a number of the predicted consequences of turnover, such\\n as disruption of social and communication structures, training and assimi-\\n lation costs, and decreased cohesion and commitment of members who stay\\n (Dalton & Todor, 1979; Mobley, 1982; Staw, 1980). For example, the fact that\\n the jobs in organizations with commitment systems often require high train-\\n ing and skill levels suggests a stronger relationship between organizational\\n tenure and performance than exists in control systems. Individuals in such\\n jobs will take longer to reach top performance than individuals in the sim-\\n pler jobs of control systems (Campion, 1989).\\n\\n In addition, because production employees in commitment systems take\\n\\n on more managerial-level decision-making tasks, their organizational cen-\\n trality, and hence the potential for their departure to disrupt organizational\\n functioning, is expected to be greater than the disruptive potential of the\\n typical employee in a control human resource system who does not have\\n these vertical task responsibilities.\\n\\n Hypothesis 3: There will be a stronger negative relation-\\n ship between turnover level and manufacturing perfor-\\n\\nThis content downloaded from 152.15.47.133 on Fri, 01 Feb 2019 20:40:51 UTC\\nAll use subject to https://about.jstor.org/terms\\n\\n\\x0c 1994\\n\\n Arthur\\n\\n 675\\n\\n mance in commitment human resource systems than in\\n control human resource systems.\\n\\n METHODS\\n\\n The data used for this study come primarily from questionnaire re-\\n sponses by human resource managers at 30 of the 54 existing U.S. steel\\n minimills. Data were gathered between November 1988 and March 1989.\\n The average age, size, geographic region represented, and union status of the\\n mills surveyed are not statistically different from those of the total minimill\\n population (Arthur, 1992).\\n\\n The modal minimill firm is an independent, privately held U.S. firm\\n\\n that owns one minimill. There are, however, a growing number of larger\\n domestic (and some foreign) companies that own multiple plants (Hogan,\\n 1987). Because of the possibility that a manager\\'s scope of responsibility\\n might span several mill locations, managers were specifically instructed to\\n direct their comments only to the mill location to which the questionnaire\\n was addressed. In addition, a different set of managers provided data for\\n each mill so that in no case were data from more than one mill collected from\\n\\n a single manager.2\\n\\n Measures\\n\\n Minimill human resource systems. In Arthur (1992), I used the minimill\\n questionnaire data to construct ten variables measuring various aspects of\\n mills\\' workplace human resource systems. Table 1 defines these variables,\\n which I standardized and submitted to a cluster analysis using Ward\\'s\\n method in order to empirically identify the minimill human resource sys-\\n tems. This procedure yielded a six-cluster solution based in part on an\\n analysis of the change in the fusion coefficient, defined as the error sums of\\n square for this procedure (Arthur, 1992: 504).\\n\\n Theoretical considerations, such as a desire to test for differences be-\\n tween two dominant human resource systems, and sample size limitations\\n (degrees of freedom were not available to include all six clusters in the\\n analysis) required some additional data aggregation. I accomplished this by\\n categorizing the patterns of cluster scores into control and commitment sys-\\n tems. As reported in my previous study, this judgment was informed by\\n descriptions of alternate forms of control and commitment human resource\\n systems found in the relevant literature as well as by detailed primary and\\n secondary case descriptions of the mills.\\n\\n Conceptually, this method of data aggregation is consistent with the\\n\\n 2 Some recent studies have found that different human resource practices may be applied\\n to different occupational and functional groups within firms (ackson et al., 1989; Snell & Dean,\\n 1992). Because this study only focused on the maintenance and production workers in min-\\n imills, I could not assess the possibility that different sets of human resource activities were\\n applied to other functional and occupational groups in the organizations.\\n\\nThis content downloaded from 152.15.47.133 on Fri, 01 Feb 2019 20:40:51 UTC\\nAll use subject to https://about.jstor.org/terms\\n\\n\\x0c Description of Human Resource Variables and Comparison of Means for Control and Commitment Systemsa\\n\\n _ _ # r u t I X, :, - w \\',,I -:,\\' -:- . . ...I. .. . . .. -. ... qi .. ....-......-. . . ... .-.- .. A . . I..-..- ... I: : ...... ..\\n\\n Variables Control Commitment\\n\\n Name Description Means s.d. Means s.d. tb a\\n\\n TABLE 1\\n\\n Decentralization Degree to which nonsupervisory employees monitor data on quality, costs,\\n\\n 2.42 0.72 3.04 1.16 1.76* .778\\n\\n productivity, and scrap; determine work flow or order of tasks; invest in\\n new equipment and technology; develop new products (1 = very little, 6\\n = very much)\\n\\n Participation Percentage of mill employees who received training in group problem\\n\\n 36.57 29.54 52.42 26.70 1.51 .707\\n\\n solving, meet on a regular basis in small groups to discuss production or\\n quality problems, or are involved in joint union-management or\\n employee-management committees\\n\\n General training Part of general training and development activities for production and\\n\\n maintenance employees accounted for by seminars, classes, training not\\n directly related to employees\\' immediate work area; general skills training not\\n directly related to the employee\\'s current job; or people skills training such\\n as communication or group problem solving (1 = no part, 6 = large part)\\n Skill Number of maintenance and craft workers as a percentage of all mill employees\\n Supervisor Number of production workers per supervisor\\n Social Number of times per year management organizes social gatherings for\\n\\n employees, such as company picnics and bowling\\n\\n 1.92 0.76 3.35 1.42 3.35** .770\\n\\n 0.14 0.02 0.19 0.03\\n\\n 4.51**\\n\\n 7.05 3.29 6.13 1.55\\n\\n 1.01\\n\\n 3.94 3.23 7.31 11.13\\n\\n 1.06\\n\\n Due process Percentage of total employee complaints or grievances that are handled\\n\\n 20.56 33.28 26.18 25.52 0.51\\n\\n through formal grievance procedures involving several steps, up to and\\n including binding third-party arbitration\\n\\n Wages Average total employment cost per production and maintenance worker,\\n\\n including wage rate, benefits, bonus or incentive payments, and taxes\\n Benefits Percentage of total average employment cost accounted for by employee\\n\\n 18.07 3.05 21.52 2.78 3.11**\\n\\n 27.31 9.70 32.01 8.91 1.37\\n\\n Bonus Percentage of total average employment cost accounted for by bonus or\\n\\n 29.96 21.43 13.62 7.94 2.58**\\n\\n benefits\\n\\n incentive payments\\n\\n Percentage unionized\\n\\n 38\\n\\n 57\\n\\n a N = 16, control; N = 14, commitment.\\n b One-tailed tests; approximation t-test for unequal sample variances were used when indicated by a significant F-test.\\n\\n * p < .05\\n **p < .01\\n\\n 3\\n\\n CD\\n\\n Q\\n\\n 4\\n\\n 0\\n\\n CD\\n\\n CD\\n\\n -\\n\\n 0\\n\\n :zt\\n\\n a-\\n\\n CD\\n\\nThis content downloaded from 152.15.47.133 on Fri, 01 Feb 2019 20:40:51 UTC\\nAll use subject to https://about.jstor.org/terms\\n\\n\\x0c 1994\\n\\n Arthur\\n\\n 677\\n\\n systems concept of \"equifinality,\" according to which the same end (control\\n or commitment) can be achieved by multiple means (configurations of hu-\\n man resource policies and practices) depending on specific organizational\\n constraints. The categorization procedure also allows for the possibility of\\n interpreting an individual variable or set of variables differently depending\\n on its overall pattern or context (cf. Miller & Friesen, 1984). This freedom is\\n especially useful for interpreting a variable such as due process (see Table 1),\\n which means different things in union and nonunion contexts (Arthur,\\n 1992). By examining the complete pattern of scores as well as the union\\n status of the different clusters, I could identify human resource cluster pat-\\n terns that were consistent with the descriptions of alternate forms (union\\n and nonunion) for achieving cost control and employee commitment found\\n in the human resource and industrial relations strategy literature.\\n\\n As Table 1 shows, the pattern of scores for the aggregated clusters shows\\n considerable face validity, appearing to match the descriptions of control\\n and commitment systems provided earlier. All the mean differences be-\\n tween the two cluster groupings are in the predicted directions. In particu-\\n lar, the average scores on measures of decentralizing decision making, gen-\\n eralized training, skill, and wage rate are all significantly higher in commit-\\n ment systems than in control systems. The value of the bonus variable is\\n significantly higher for control systems, which is consistent with the exis-\\n tence of an output control strategy (Eisenhardt, 1985).\\n\\n Additional evidence for the validity of the cluster groupings was pro-\\n vided in Arthur (1992) by a significant biserial correlation between two of\\n Porter\\'s (1980) business strategies, low cost and differentiation, and the ag-\\n gregated cluster groupings (r = .46, p < .05). As predicted, mills with low-\\n cost business strategies were more likely to have control human resource\\n systems, and mills with differentiation strategies were more likely to have\\n commitment human resource systems. Business strategy data for the mills\\n were gathered independently from the data on human resource practices.\\n This evidence of predictive validity is especially relevant for use with clus-\\n ter analysis results that, in the absence of statistical tests for the \"right\"\\n number of clusters, must be judged primarily on their usefulness in predict-\\n ing outcomes of variables not used in the clustering procedure (cf. Aldender-\\n fer & Blashfield, 1984).\\n\\n To help determine the reliability of the categorization, I gave six raters\\n\\n (advanced graduate students in human resource and organizational behav-\\n ior) a questionnaire that included the descriptions of control and commit-\\n ment systems and asked them to judge independently whether each of the\\n six patterns of standardized variable scores presented in Arthur (1992) rep-\\n resented control or commitment. The six raters unanimously selected the\\n category used in this study for five of the six cluster patterns, and five of the\\n six raters correctly categorized the sixth cluster. These results indicate a very\\n high degree of interrater reliability for the human resource system categori-\\n zation used in this study. In the analysis, control systems were coded 0 and\\n commitment systems, 1.\\n\\nThis content downloaded from 152.15.47.133 on Fri, 01 Feb 2019 20:40:51 UTC\\nAll use subject to https://about.jstor.org/terms\\n\\n\\x0c 678\\n\\n Academy of Management Journal\\n\\n June\\n\\n Manufacturing performance and turnover. The respondents were also\\n\\n asked to report on their mills\\' labor efficiency, scrap rate, and turnover over\\n the year before the survey. The variable labor hours was defined as the\\n average number of labor hours (both direct and indirect) required to produce\\n one ton of steel at a mill. Scrap rate was the number of tons of raw steel that\\n had to be melted to produce one ton of finished product. Industry journals,\\n interviews with mill managers, and pretest feedback indicated that these\\n were common performance metrics used in the industry with which top\\n human resource managers would be familiar. Because only human resource\\n managers were asked to report on these measures, however, interrater reli-\\n ability could not be assessed.3\\n\\n The managers were also asked to indicate the number of production and\\n\\n maintenance employees who had \"left the mill (either voluntarily or invol-\\n untarily) over the past year.\" This figure was divided by the total number of\\n production and maintenance employees in a mill, derived from a separate\\n question asked at the beginning of the questionnaire, to measure turnover.\\n\\n Control variables. The age, size, union status, and business strategy of\\n\\n the mills were included as control variables. Age was the number of years a\\n mill had been in existence (1993 minus year of founding). Data for this\\n measure were gathered from archival sources (Hogan, 1987; International\\n Trade Administration, 1986). It is included in the model as a proxy for the\\n newness and sophistication of the plant design and production technology.\\n Size was the number of employees at each mill reported by its human re-\\n source manager.\\n\\n Union status and business strategy were expected to vary with the hu-\\n man resource system variable and to have potential direct effects on manu-\\n facturing performance. Union status data were gathered from secondary\\n sources (e.g., Hogan, 1987); 47 percent of the minimills studied were union-\\n ized. In all but one of the unionized mills, production and maintenance\\n employees were represented by the United Steelworkers of America.\\n\\n Business strategy data were gathered through the use of a separate ques-\\n tionnaire completed by the top line manager at each minimill. I then cluster-\\n analyzed these data and used them to classify the mills into low-cost and\\n differentiation strategy categories following the work of Porter (1980) and\\n others (e.g., Dess & Davis, 1984). Details of the business strategy variables\\n\\n 3 Two studies, however, have reported performance levels for minimills measured at the\\n industry level very similar to those found in this study and thus provide some support for the\\n validity and reliability of the performance measures. The average productivity rate of 2.35 labor\\n hours per ton in this study compares favorably with the average of approximately 2.00 labor\\n hours per ton found in Hogan\\'s (1987) survey of U.S. minimill firms. A U.S. Department of\\n Commerce study also supports the validity of the average scrap rate of 18 percent found in this\\n study, reporting an 80 percent \"yield of raw steel to finished product\" (a 20 percent scrap rate)\\n in U.S. minimills (International Trade Administration, 1986: 12). However, given the lack of\\n independently reported plant-level performance data with which to assess the reliability and\\n validity of the performance measures over a specified period of time, readers may want to\\n exercise some caution in interpreting these results.\\n\\nThis content downloaded from 152.15.47.133 on Fri, 01 Feb 2019 20:40:51 UTC\\nAll use subject to https://about.jstor.org/terms\\n\\n\\x0c 1994\\n\\n Arthur\\n\\n 679\\n\\n and classifications are presented in Table 2. The strategy and union variables\\n were coded as dichotomous variables, with 1 equaling the presence of a\\n union and a differentiation business strategy, respectively.\\n\\n Table 3 presents the means, standard deviations, and correlations for all\\n\\n the dependent and independent variables in the study.\\n\\n RESULTS\\n\\n Hypothesis 1 predicts that the presence of a commitment human re-\\n source system will be related to significantly higher manufacturing perfor-\\n mance than the presence of a control system. I tested this hypothesis using\\n regression analysis for labor hours and scrap rate in models that included\\n system type and the control variables.4 Table 4 presents results of the anal-\\n yses. The negative coefficients for the human resource system variable in\\n both models indicates that commitment is significantly related to both fewer\\n labor hours per ton and lower scrap rates. Because the results of the overall\\n regression model for scrap rate are not significant, however, the significance\\n of the human resource system variable in this model must be interpreted\\n with some caution.\\n\\n The second hypothesis predicts that turnover will be higher in min-\\n imills with control systems than in those with commitment systems. Turn-\\n over was over twice as high in the former (x = .07, s.d. = .07, control, and\\n x = .03, s.d. = .03, commitment). A t-test showed that this difference was\\n statistically significant (t = 2.19, p < .05).\\n\\n Finally, Hypothesis 3 states that the negative relationship between turn-\\n over and manufacturing performance will be higher in commitment human\\n resource systems than in control systems. Table 5 presents the results of a\\n moderated regression analysis that included the main effects of turnover and\\n system and their multiplicative interaction. Union status was used as a con-\\n trol variable in this analysis because previous research has found that union-\\n ization is related to both turnover level and manufacturing performance\\n (e.g., Freeman & Medoff, 1984). The interaction term is significant for both\\n labor hours and scrap rate, and its inclusion results in a significant change\\n in R2.\\n\\n Table 6 shows results of a comparison of the sizes of the correlations\\n\\n between turnover and performance in the two types of system, with union\\n status again controlled. This subgroup comparison was appropriate for test-\\n ing the strength of the moderating effect of system type (Arnold, 1982). The\\n table shows significant, positive correlations between turnover and both\\n labor hours and scrap rate for minimills with commitment systems-\\n manufacturing performance is worse the higher the turnover. For mills with\\n control systems, the correlations are negative and insignificant. Results of\\n\\n 4 Missing data reduced the number of usable observations by three in the labor hours\\n equation and by six in the scrap rate equation. The mills with missing data were not statistically\\n different from the rest of those studied in age, size, or union status.\\n\\nThis content downloaded from 152.15.47.133 on Fri, 01 Feb 2019 20:40:51 UTC\\nAll use subject to https://about.jstor.org/terms\\n\\n\\x0c Description of Business Strategy Variables and Comparison of Meansa\\n\\n TABLE 2\\n\\n Variables Producer Differentiator\\n\\n Low-Cost\\n\\n Name Description Means s.d. Means s.d. t a\\n\\n Low-cost producer Provide customers with basic steel products at prices 4.67 1.11 3.68 1.70 2.00*\\n\\n Differentiator Provide customers with specialized sizes, shapes, or 3.23 1.00 4.64 0.79 4.94*** .800\\n\\n below those of competitors.b\\n\\n grades of steel; develop and produce new steel shapes,\\n sizes, or grades; switch quickly between the production\\n of different shapes, sizes, or grades to respond to\\n fluctuations in market demand; produce shapes, sizes,\\n and grades for the higher-priced segment of steel\\n market; develop new techniques and methods to\\n market products.b\\n\\n area; create recognition of company\\'s name and\\n reputation in the industry.b\\n\\n Focus Serve needs of customers within a specific geographic 4.60 1.37 4.64 0.94 0.16 .681\\n\\n Product types Number of different product types produced 1.64 0.74 2.79 1.53 3.10**\\n Product sizes Number of different sizes of steel products produced 50.54 69.30 176.80 176.23 2.88**\\n Product grades Number of different grades of steel products produced 9.07 8.34 97.50 112.86 3.50**\\n Contract customers Percentage of 1987-88 production delivered to contract 17.69 18.33 27.29 28.01 1.11\\n\\n Open market customers Percentage of 1987-88 production sold on the open, 25.38 32.30 33.54 28.15 0.80\\n\\n customers\\n\\n spot, market\\n\\n aData are from Arthur (1992). N = 15, low-cost producer; N = 25, differentiator.\\n b Respondents were asked to indicate importance, with 1 = unimportant, 6 = very important.\\n\\n * p < .05\\n **p < .01\\n *** p < .001\\n\\n 0,\\n\\n 00\\n\\n 0\\n\\n C.,\\n\\n CL\\n\\n 0\\n\\n m\\n\\n CD\\n\\n CD\\n\\n CD\\n\\n -01\\n\\n Cd\\n\\n Q\\n\\n CD\\n\\n CD 0\\n\\n Rj C)\\n\\n CD\\n\\nThis content downloaded from 152.15.47.133 on Fri, 01 Feb 2019 20:40:51 UTC\\nAll use subject to https://about.jstor.org/terms\\n\\n\\x0c ?-L\\n\\n CD\\n\\n Co\\n\\n rf.\\n\\n Means, Standard Deviations, and Correlations\\n\\n TABLE 3\\n\\n Variables N Means s.d. 1 2 3 4 5 6 7\\n\\n 1. Human resource system 30 0.47 0.51\\n 2. Business strategy 29 0.69 0.47 .46*\\n 3. Age 29 20.44 20.01 .06 .14\\n 4. Unionization 30 0.47 0.51 .27 .35 .38*\\n\\n 5. Size 30 463.40 318.30 .45* .24 .36 .39*\\n\\n 6. Labor hours 28 2.30 0.98 -.13 .07 -.65*** .43* .52**\\n\\n 7. Scrap rate 25 0.22 0.22 .14 -.08 -.22 .20 .66*** .50*\\n 8. Turnover 29 0.05 0.06 -.37 -.27 -.10 -.26 -.07 .08 .16\\n\\n * p < .05\\n ** p < .01\\n *** p < .001\\n\\nThis content downloaded from 152.15.47.133 on Fri, 01 Feb 2019 20:40:51 UTC\\nAll use subject to https://about.jstor.org/terms\\n\\n\\x0c 682\\n\\n Academy of Management Journal\\n\\n June\\n\\n Results of Regression Analysis, Systems on Performance\\n\\n TABLE 4\\n\\n Labor Hours Scrap Rate\\n\\n Variables b s.e. b s.e.\\n\\n Constant 1.46*** 0.28 0.12* 0.05\\n\\n Age 2.23** 0.67 -0.24* 0.11\\n Size 0.08 0.06 0.02 0.01\\n\\n Unionization 0.27 0.32 0.08 0.05\\n\\n Business strategy 0.17 0.33 0.03 0.05\\n Human resource system -0.79* 0.36 -0.14* 0.06\\n R2 0.65 0.42\\n\\n df 5,21 5,18\\n F 6.25** 1.85\\n\\n p < .05\\n\\n ** p < .01\\n\\n ***p < .001\\n\\n tests of the difference between the correlations using Fisher\\'s Z transforma-\\n tion were significant for both labor hours and scrap rate.\\n\\n The regression results in this study indicate that the human resource\\n system taxonomy developed in my previous research (Arthur, 1992) was\\n significantly associated with variation in steel minimills\\' performance. More\\n specifically, these results support observations made by Walton (1985) and\\n\\n Results of Regression Analysis, Turnover and Human Resource Systems\\n\\n DISCUSSION\\n\\n TABLE 5\\n\\n on Performance\\n\\n Labor Hours Scrap Rate\\n\\n Restricted Model Full Model Restricted Model Full Model\\n\\n Variables b s.e. b s.e. b s.e. b s.e.\\n\\n Constant 2.34*** 0.36 2.56*** 0.31 1.13*** 0.05 1.16*** 0.05\\n\\n Unionization 0.95* 0.36 0.74* 0.33 0.08 0.05 0.06 0.05\\n\\n Turnover 1.74 3.06 -0.90 2.90 0.24 0.43 -0.08 0.41\\n\\n Human resource\\n\\n system -0.28 0.38 -1.18* 0.48 -0.01 0.06 -0.14t 0.07\\n Turnover x system 25.22* 9.43 2.99* 1.30\\n R2 0.25 0.43 0.12 0.30\\n df 3,23 4,22 3,21 4,20\\n F 2.51t 4.17* 0.92 2.16\\n\\n AR2 0.18 0.18\\n\\n F 6.92*** 5.14**\\n\\n tp < .10\\n * p < .05\\n\\n ** p < .01\\n ***p < .001\\n\\nThis content downloaded from 152.15.47.133 on Fri, 01 Feb 2019 20:40:51 UTC\\nAll use subject to https://about.jstor.org/terms\\n\\n\\x0c 1994\\n\\n 683\\n\\n Arthur\\n\\n TABLE 6\\n\\n Comparisons of Partial Correlations\\n\\n Control Commitment\\n\\n Variables r N r N za\\n\\n Labor hours -.046 16 .830** 11 1.95*\\n\\n Scrap rate -.057 15 .900*** 10 2.01*\\n\\n a One-tailed tests.\\n\\n p < .05\\n\\n ** p < .01\\n **p < .001\\n\\n others concerning the effectiveness of commitment-type human resource\\n systems, at least in the context of manufacturing plants using technologi-\\n cally intensive and relatively integrated continuous production processes\\n (e.g., Dean & Snell, 1991). Interestingly, no tradeoff between production\\n quality and efficiency emerged. Commitment was associated with both\\n lower scrap rates and higher labor efficiency than control.\\n\\n In addition, the significant differences found between the two types of\\n\\n systems in both turnover and the relationship between turnover and manu-\\n facturing performance suggest the importance of including a measure of\\n human resource system as a moderator in future research on the conse-\\n quences of turnover. These results support the recent observations of a num-\\n ber of researchers who have noted the importance of identifying organiza-\\n tion-level consequences of employee turnover (e.g., Dalton & Todor, 1979;\\n Mobley, 1982; Schwab, 1991).\\n\\n Finally, the lack of a significant correlation between turnover and man-\\n ufacturing performance in control systems may indicate a nonlinear rela-\\n tionship between these two variables. In other words, organizations with\\n control human resource systems may benefit from high employee turnover\\n up to some point, but after that point is reached there begins to be a detri-\\n mental effect on manufacturing performance. In contrast, the results show a\\n negative linear relationship between turnover and manufacturing perfor-\\n mance in the commitment systems. The finding that the right amount of\\n turnover varies with system type has important implications for practition-\\n ers seeking to manage this process.\\n\\n Limitations and Future Research\\n\\n The relatively small number of existing minimills limited the types of\\n statistical analyses possible, including the use of a full set of control vari-\\n ables in testing Hypotheses 2 and 3. In addition, the specific characteristics\\n of the organizations studied limit the generalizability of these results. To\\n what extent do the human resource systems found in this study also exist in\\n large public sector organizations such as schools and hospitals? What is the\\n relationship between human resource system and organizational perfor-\\n mance in less technologically intensive, service-oriented organizations? Fi-\\n\\nThis content downloaded from 152.15.47.133 on Fri, 01 Feb 2019 20:40:51 UTC\\nAll use subject to https://about.jstor.org/terms\\n\\n\\x0c 684\\n\\n Academy of Management Journal\\n\\n June\\n\\n nal evaluation of the evidence for the human resource strategy perspective\\n will need to await the accumulation of results from studies conducted in\\n\\n multiple industry contexts.\\n\\n In addition, although the findings of this study are consistent with a\\n conceptual model in which the choice of human resource system leads to\\n changes in manufacturing performance, the cross-sectional data used here\\n did not permit any tests of the causal ordering between effects of system and\\n performance. It is possible that better performing mills also have additional\\n resources that facilitate management\\'s choosing commitment systems.\\n\\n Further, research progress on the human resource strategy perspective\\n\\n depends critically on the development of conceptually and methodologi-\\n cally sound measures of the human resource system construct. Although the\\n taxonomy used in this study shows some conceptual and predictive prom-\\n ise, much more work needs to be done concerning definition and measure-\\n ment of the dimensions of human resource systems. A key related issue is\\n the performance implications of mixed systems. A premise of this work is\\n that control and commitment represent conceptually distinct ideal systems\\n and that any deviation from the ideal types will weaken performance. Al-\\n ternatively, control and commitment can be conceptualized as the opposite\\n ends of a continuum of possible human resource systems and the most\\n effective system seen as existing somewhere between the two extremes.5\\n Empirical tests are needed to determine which conceptualization more ac-\\n curately describes the construct.\\n\\n Other parts of the human resource strategy model are also in need of\\n empirical investigation. For example, because of sample size limitations, I\\n was unable in this study to test for the performance effects of the fit between\\n business strategy and human resource strategy. Finally, there is a need to\\n demonstrate that certain combinations of human resource programs, poli-\\n cies, and practices lead to specific employee attitudes, such as trust in man-\\n agement or organizational commitment, that in turn lead to specific em-\\n ployee behaviors beneficial to effectively implementing a given business\\n strategy. Exploring these intermediate links explicitly will undoubtedly lead\\n to further refinements and insights into the process by which combinations\\n of human resource activities can lead to competitive advantages for firms\\n (e.g., Cappelli & Singh, 1992).\\n\\n Conclusions\\n\\n In spite of its limitations, this research shows that a number of insights\\n can be gained through the use of a human resource strategy perspective and\\n methodology. By empirically testing whether certain combinations of activ-\\n ities are associated with higher manufacturing performance, this study pro-\\n vides one of the first pieces of empirical evidence with which to evaluate the\\n prescriptions in the human resource strategy literature. Many authors have\\n\\n 5 I would like to thank an anonymous reviewer for drawing my attention to this point.\\n\\nThis content downloaded from 152.15.47.133 on Fri, 01 Feb 2019 20:40:51 UTC\\nAll use subject to https://about.jstor.org/terms\\n\\n\\x0c 1994\\n\\n Arthur\\n\\n 685\\n\\n called for such evidence (Dobbins et al., 1991; Fisher, 1989; Jackson et al.,\\n 1989; Lengnick-Hall & Lengnick-Hall, 1988; Snell & Dean, 1992; Wright &\\n McMahan, 1992). In addition, the study has shown that identification of\\n human resource systems promises to add significantly to understanding the\\n relationship between turnover and organizational performance. Although\\n these results should be seen as preliminary because of data limitations, this\\n study provides future researchers with some empirical evidence supporting\\n a promising new perspective with which to study important human resource\\n and organizational outcomes.\\n\\n REFERENCES\\n\\n Aldenderfer, M. W., & Blashfield, R. K. 1984. Cluster analysis. Beverly Hills, CA: Sage.\\n\\n Arnold, H. J. 1982. Moderator variables: A clarification of conceptual, analytical, and psycho-\\n\\n metric issues. Organizational Behavior and Human Performance, 29: 143-174.\\n\\n Arthur, J. B. 1992. The link between business strategy and industrial relations systems in Amer-\\n\\n ican steel minimills. Industrial and Labor Relations Review, 45: 488-506.\\n\\n Barnett, D. F., & Crandall, R. W. 1986. Up from the ashes: The rise of the steel minimill in the\\n\\n United States. Washington, DC: The Brookings Institution.\\n\\n Boudreau, J. W., & Berger, C. J. 1985. Decision-theoretic utility analysis applied to employee\\n\\n separations and acquisitions. Journal of Applied Psychology, 70: 581-612.\\n\\n Butler, J. E., Ferris, G. R., & Napier, N. K. 1991. Strategy and human resources management.\\n\\n Cincinnati: South-Western.\\n\\n Campion, M. A. 1989. Ability requirement implications of job design: An interdisciplinary\\n\\n perspective. Personnel Psychology, 42: 1-24.\\n\\n Cappelli, P., & Singh, H. 1992. Integrating strategic human resources and strategic management.\\n In D. Lewin, O. S. Mitchell, & P. D. Sherer (Eds.), Research frontiers in industrial relations\\n and human resources: 165-192. Madison, WI: Industrial Relations Research Association.\\n\\n Cooke, W. N. 1992. Product quality improvement through employee participation: The effects\\n of unionization and joint union-management administration. Industrial and Labor Rela-\\n tions Review, 46: 119-134.\\n\\n Cotton, J. L., & Tuttle, J. M. 1986. Employee turnover: A meta-analysis and review with impli-\\n\\n cations for research. Academy of Management Review, 11: 55-70.\\n\\n Dalton, D. R., & Todor, W. D. 1979. Turnover turned over: An expanded and positive perspec-\\n\\n tive. Academy of Management Review, 4: 225-235.\\n\\n Dean, J. W., & Snell, S. A. 1991. Integrated manufacturing and job design: Moderating effects of\\n\\n organizational inertia. Academy of Management Journal, 34: 776-804.\\n\\n Dess, G. G., & Davis, P. S. 1984. Porter\\'s (1980) generic strategies as determinants of strategic\\n\\n group membership and organizational performance. Academy of Management Journal,\\n 27: 467-488.\\n\\n Dobbins, G. H., Cardy, R. L., & Carson, K. P. 1991. Examining fundamental assumptions: A\\n\\n contrast of person and system approaches to human resource management. In K. Roland &\\n G. Ferris (Eds.), Research in personnel and human resources management, vol. 9: 1-38.\\n Greenwich, CT: JAI Press.\\n\\n Dyer, L., & Holder, G. W. 1988. Toward a strategic perspective of human resource management.\\n In L. Dyer (Ed.), Human resource management: Evolving roles and responsibilities:\\n 1-46. Washington, DC: Bureau of National Affairs.\\n\\nThis content downloaded from 152.15.47.133 on Fri, 01 Feb 2019 20:40:51 UTC\\nAll use subject to https://about.jstor.org/terms\\n\\n\\x0c 686 Academy of Management Journal June\\n\\n Eisenhardt, K. M. 1985. Control: Organizational and economic approaches. Management Sci-\\n\\n ence, 31: 134-149.\\n\\n 157-180.\\n\\n Fisher, C. D. 1989. Current and recurrent challenges in HRM. Journal of Management, 15:\\n\\n Freeman, R. B., & Medoff, J. L. 1984. What do unions do? New York: Basic Books.\\n\\n Hogan, W. T. 1987. Minimills and integrated mills: A comparison of steelmaking in the\\n\\n United States. Lexington, MA: Heath.\\n\\n Hollenbeck, J. R., & Williams, C. R. 1986. Turnover functionality versus turnover frequency: A\\n note on work attitudes and organizational effectiveness. Journal of Applied Psychology,\\n 71: 606-611.\\n\\n International Trade Administration. 1986. Growth patterns of the U.S. minimill steel industry.\\n\\n Washington, DC: U.S. Government Printing Office.\\n\\n Jackson, S. E., Schuler, R. S., & Rivero, J. C. 1989. Organizational characteristics as predictors of\\n\\n personnel practices. Personnel Psychology, 42: 727-786.\\n\\n Katz, D. 1964. Approaches to managing conflict. In R. L. Kahn & E. Boulding (Eds.), Power and\\n\\n conflict in organizations: 105-114. New York: Basic Books.\\n\\n Katz, H. C., Kochan, T. A., & Weber, M. 1985. Assessing the effects of industrial relations and\\n quality of working life on organizational effectiveness. Academy of Management Journal,\\n 28: 509-526.\\n\\n Kochan, T. A., Katz, H. C., & McKersie, R. B. 1986. The transformation of American industrial\\n\\n relations. New York: Basic Books.\\n\\n Lawler, E. E., III. 1986. High involvement management. San Francisco: Jossey-Bass.\\n\\n Lengnick-Hall, C. A., & Lengnick-Hall, M. L. 1988. Strategic human resource management: A\\n review of the literature and a proposed typology. Academy of Management Review, 13:\\n 454-470.\\n\\n Levine, D. I., & Tyson, L. D. 1990. Participation, productivity, and the firm\\'s environment. In\\n A. S. Blinder (Ed.), Paying for productivity: A look at the evidence: 183-243. Washing-\\n ton, DC: Brookings Institution.\\n\\n Locke, E. A., & Schweiger, D. M. 1979. Participation in decision-making: One more look. In\\n B. M. Staw (Ed.), Research in organizational behavior, vol. 1: 169-339. Greenwich, CT:\\n JAI Press.\\n\\n Mahoney, T. A., & Deckup, J. R. 1986. Evolution of concept and practice in PA/HRM. Journal of\\n\\n Management, 12: 223-241.\\n\\n Dynamics, 31(1): 36-52.\\n\\n tice-Hall.\\n\\n Majchrzak, A. 1988. The human side of factory automation. San Francisco: Jossey-Bass.\\n\\n Miles, R. E., & Snow, C. C. 1984. Designing strategic human resource systems. Organizational\\n\\n Miller, D., & Friesen, P. H. 1984. Organizations: A quantum view. Englewood Cliffs, NJ: Pren-\\n\\n Mobley, W. H. 1982. Some unanswered questions in turnover and withdrawal research. Acad-\\n\\n emy of Management Review, 7: 111-116.\\n\\n Organ, D. W. 1988. Organizational citizenship behavior: The good soldier syndrome. Lex-\\n\\n ington, MA: Lexington Books.\\n\\n tions, 26: 46-67.\\n\\n Osterman, P. 1987. Choice of employment systems in internal labor markets. Industrial Rela-\\n\\n Ouchi, W. G. 1979. A conceptual framework for the design of organizational control mecha-\\n\\n nisms. Management Science, 25: 833-848.\\n\\nThis content downloaded from 152.15.47.133 on Fri, 01 Feb 2019 20:40:51 UTC\\nAll use subject to https://about.jstor.org/terms\\n\\n\\x0c 1994\\n\\n Arthur\\n\\n 687\\n\\n Porter, M. E. 1980. Competitive strategy. New York: Free Press.\\n\\n Schuler, R. S. 1992. Strategic human resource management: Linking people with the strategic\\n\\n needs of the business. Organizational Dynamics, 21(1): 18-31.\\n\\n Schuler, R. S., & Jackson, S. E. 1987. Linking competitive strategies with human resource man-\\n\\n agement practices. Academy of Management Executive, 1(3): 207-219.\\n\\n Schwab, D. P. 1991. Contextual variables in employee performance-turnover relationships.\\n\\n Academy of Management Journal, 34: 966-975.\\n\\n Snell, S. A. 1992. Control theory in strategic human resource management: The mediating role\\n\\n of administrative information. Academy of Management Journal, 35: 292-327.\\n\\n Snell, S. A., & Dean, J. W. 1992. Integrated manufacturing and human resource management: A\\n\\n human capital perspective. Academy of Management Journal, 35: 467-504.\\n\\n Staw, B. M. 1980. The consequences of turnover. Journal of Occupational Behaviour, 1: 253-\\n\\n Thomas, K. W., & Velthouse, B. A. 1990. Cognitive elements of empowerment: An \"interpre-\\n tive\" model of intrinsic task motivation. Academy of Management Review, 15: 666-681.\\n\\n Walton, R. A. 1985. From control to commitment in the workplace. Harvard Business Review,\\n\\n 273.\\n\\n 63(2): 77-84.\\n\\n Wright, P. M., & McMahan, G. C. 1992. Theoretical perspectives for strategic human resource\\n\\n management. Journal of Management, 18: 295-320.\\n\\n Jeffrey B. Arthur is an assistant professor of management at the Krannert Graduate\\n School of Management, Purdue University. He received his Ph.D. degree in industrial\\n relations from Cornell University. His current research interests include strategic hu-\\n man resource management and industrial relations patterns and transformations.\\n\\nThis content downloaded from 152.15.47.133 on Fri, 01 Feb 2019 20:40:51 UTC\\nAll use subject to https://about.jstor.org/terms\\n\\n\\x0c'"
            ]
          },
          "metadata": {
            "tags": []
          },
          "execution_count": 198
        }
      ]
    },
    {
      "cell_type": "code",
      "metadata": {
        "id": "KPo8aHbL2ahn"
      },
      "source": [
        "def clean_and_convert_to_sentence(text_file):\r\n",
        "    \r\n",
        "    j = text_file\r\n",
        "    ## First, remove everything post the word REFERENCES or BIBLIOGRAPHY.\r\n",
        "    ## Attach \\n in case it appears in text \r\n",
        "    seps = ['REFERENCES\\n','References\\n','BIBLIOGRAPHY\\n',\r\n",
        "            'REFERENCES \\n','References \\n','BIBLIOGRAPHY \\n']\r\n",
        "    for sep in seps:\r\n",
        "        if sep in j:\r\n",
        "            j = j.replace(sep,sep.replace(' ',''))\r\n",
        "            j = j.rsplit(sep, 1)[0]\r\n",
        "    \r\n",
        "    j = j.splitlines()\r\n",
        "    \r\n",
        "    ## Drop any line that is just a number or number and symbols\r\n",
        "    j3 = [i for i in j if re.search('[a-zA-Z]', i.strip())]\r\n",
        "    ## Drop any line if it is just a single character\r\n",
        "    j3 = [i for i in j3 if len(i)>1]\r\n",
        "    \r\n",
        "    ## Drop any line that BEGINS with a month\r\n",
        "    months = ['January','February','March','April','May','June',\r\n",
        "              'July','August','September','October','November','December']\r\n",
        "    \r\n",
        "    months = [i.upper() for i in months]\r\n",
        "    \r\n",
        "    j3 = [i for i in j3 if i.split()[0].upper() not in months]\r\n",
        "    \r\n",
        "    \r\n",
        "    ## Check for lines that end in a -\r\n",
        "    \r\n",
        "    for k in j3:\r\n",
        "        if k.strip().endswith('-'):\r\n",
        "            num = j3.index(k)\r\n",
        "            # the end of the word is at the start of next line\r\n",
        "            end = j3[num+1].split()[0]\r\n",
        "            # we remove the - and append the end of the word\r\n",
        "            j3[num] = k[:-1] + end\r\n",
        "            # following space from the next line\r\n",
        "            j3[num+1] = j3[num+1][len(end)+1:]\r\n",
        "\r\n",
        "    ## Remove lines that contain \"This content downloaded\" and other download things\r\n",
        "    \r\n",
        "    for string in ['This content downloaded', 'downloaded', 'http','jstor','DOI','doi']:\r\n",
        "        j4 = [x for x in j3 if string not in x]\r\n",
        "  \r\n",
        "    \r\n",
        "    ## Remove lines IP addresses \r\n",
        "    regex = re.compile(r'(?:[\\d]{1,3})\\.(?:[\\d]{1,3})\\.(?:[\\d]{1,3})\\.(?:[\\d]{1,3})')\r\n",
        "    j5 = [i for i in j4 if not regex.search(i)]\r\n",
        "    \r\n",
        "    \r\n",
        "    \r\n",
        "    ## Remove everything in parentheses??\r\n",
        "    ## Also need to worry about parentheses splitting over lines. \r\n",
        "    ## This bit of code inserts a linesplit placeholder and merges the text, \r\n",
        "    ## and then removes anything within parentheses\r\n",
        "    j6 = j5\r\n",
        "    for k in j6:\r\n",
        "        j6[j6.index(k)] = k + \" {LINESPLIT}\"\r\n",
        "    \r\n",
        "    j6 = ''.join(i for i in j6)\r\n",
        "    regex = r'\\(.*?\\)'\r\n",
        "    j6 = re.sub(regex, '', j6)\r\n",
        "    j6 = j6.split('{LINESPLIT}')\r\n",
        "    j6 = [i for i in j6 if not i == '' ]\r\n",
        "    j6 = [i for i in j6 if re.search('[a-zA-Z]', i.strip())]\r\n",
        "\r\n",
        "    j7 = ''.join(i+' ' for i in j6)\r\n",
        "    j7 = sent_tokenize(j7)\r\n",
        "    \r\n",
        "    ## replace double-spaces \r\n",
        "    for k in j7:\r\n",
        "        j7[j7.index(k)] = k.replace('  ',' ')\r\n",
        "    \r\n",
        "    j7 = ''.join(i+' ' for i in j7)\r\n",
        "    \r\n",
        "    ## Replace cases of h1. or Hypothesis 1. with Hypo 1:\r\n",
        "    ## Add a <split> signifier, so that when we extract hypotheses later\r\n",
        "    ## we can split new lines based on <split>\r\n",
        "    for num in np.arange(100):\r\n",
        "        for regex in [r'h{}[a-zA-Z]\\:'.format(num),r'H{}[a-zA-Z]\\:'.format(num),\r\n",
        "                      r'h{}[a-zA-Z]\\.'.format(num),r'H{}[a-zA-Z]\\.'.format(num),\r\n",
        "                      r'h{}[a-zA-Z]'.format(num),r'H{}[a-zA-Z]'.format(num),\r\n",
        "                      r'hypothesis {}[a-zA-Z]\\:'.format(num),r'Hypothesis {}[a-zA-Z]\\:'.format(num),\r\n",
        "                      r'hypothesis {}[a-zA-Z]\\.'.format(num),r'Hypothesis {}[a-zA-Z]\\.'.format(num),\r\n",
        "                      r'hypothesis {}[a-zA-Z]'.format(num),r'Hypothesis {}[a-zA-Z]'.format(num),\r\n",
        "                      r'h{}\\:'.format(num),r'H{}\\:'.format(num),\r\n",
        "                      r'h{}\\.'.format(num),r'H{}\\.'.format(num),\r\n",
        "                      r'h{}'.format(num),r'H{}'.format(num),\r\n",
        "                      r'hypothesis {}\\:'.format(num),r'Hypothesis {}\\:'.format(num),\r\n",
        "                      r'hypothesis {}\\.'.format(num),r'Hypothesis {}\\.'.format(num),\r\n",
        "                      r'hypothesis {}'.format(num),r'Hypothesis {}'.format(num),\r\n",
        "                      r'p{}[a-zA-Z]\\:'.format(num),r'P{}[a-zA-Z]\\:'.format(num),\r\n",
        "                      r'p{}[a-zA-Z]\\.'.format(num),r'P{}[a-zA-Z]\\.'.format(num),\r\n",
        "                      r'p{}[a-zA-Z]'.format(num),r'P{}[a-zA-Z]'.format(num),\r\n",
        "                      r'proposition {}[a-zA-Z]\\:'.format(num),r'Proposition {}[a-zA-Z]\\:'.format(num),\r\n",
        "                      r'proposition {}[a-zA-Z]\\.'.format(num),r'Proposition {}[a-zA-Z]\\.'.format(num),\r\n",
        "                      r'proposition {}[a-zA-Z]'.format(num),r'Proposition {}[a-zA-Z]'.format(num),\r\n",
        "                      r'p{}\\:'.format(num),r'P{}\\:'.format(num),\r\n",
        "                      r'p{}\\.'.format(num),r'P{}\\.'.format(num),\r\n",
        "                      r'p{}'.format(num),r'P{}'.format(num),\r\n",
        "                      r'proposition {}\\:'.format(num),r'Proposition {}\\:'.format(num),\r\n",
        "                      r'proposition {}\\.'.format(num),r'Proposition {}\\.'.format(num),\r\n",
        "                      r'proposition {}'.format(num),r'Proposition {}'.format(num),\r\n",
        "                      ]:\r\n",
        "            j7 =re.sub(regex,'<split>Hypo {}: '.format(num),j7)\r\n",
        "\r\n",
        "\r\n",
        "    ## Just get rid of some annoying strings\r\n",
        "    j7 = j7.replace(':  :',': ')\r\n",
        "    ## Replace multiple white spaces with a single white space\r\n",
        "    j7 = re.sub('\\s+',' ',j7)\r\n",
        "    ## Remove this string as it causes new sentences and funks up hypothesis extraction\r\n",
        "    j7 = j7.replace(': .',':')\r\n",
        "\r\n",
        "    return j7\r\n"
      ],
      "execution_count": 199,
      "outputs": []
    },
    {
      "cell_type": "code",
      "metadata": {
        "colab": {
          "base_uri": "https://localhost:8080/"
        },
        "id": "AqHaeDcM4Dj2",
        "outputId": "e05ccdc9-ce0f-4162-de45-ce921d02483b"
      },
      "source": [
        "text_cleaned_JB = ['']*len(text_data)\r\n",
        "for i in np.arange(0,len(text_data)):\r\n",
        "    print('{}% done '.format(round(i/len(text_data)*100)+1,1))\r\n",
        "    text_cleaned_JB[i] = clean_and_convert_to_sentence(text_data[i])    "
      ],
      "execution_count": 200,
      "outputs": [
        {
          "output_type": "stream",
          "text": [
            "1% done \n",
            "2% done \n",
            "2% done \n",
            "3% done \n",
            "4% done \n",
            "5% done \n",
            "5% done \n",
            "6% done \n",
            "7% done \n",
            "7% done \n",
            "8% done \n",
            "9% done \n",
            "10% done \n",
            "10% done \n",
            "11% done \n",
            "12% done \n",
            "12% done \n",
            "13% done \n",
            "14% done \n",
            "15% done \n",
            "15% done \n",
            "16% done \n",
            "17% done \n",
            "17% done \n",
            "18% done \n",
            "19% done \n",
            "20% done \n",
            "20% done \n",
            "21% done \n",
            "22% done \n",
            "22% done \n",
            "23% done \n",
            "24% done \n",
            "25% done \n",
            "25% done \n",
            "26% done \n",
            "27% done \n",
            "27% done \n",
            "28% done \n",
            "29% done \n",
            "30% done \n",
            "30% done \n",
            "31% done \n",
            "32% done \n",
            "32% done \n",
            "33% done \n",
            "34% done \n",
            "35% done \n",
            "35% done \n",
            "36% done \n",
            "37% done \n",
            "37% done \n",
            "38% done \n",
            "39% done \n",
            "40% done \n",
            "40% done \n",
            "41% done \n",
            "42% done \n",
            "42% done \n",
            "43% done \n",
            "44% done \n",
            "45% done \n",
            "45% done \n",
            "46% done \n",
            "47% done \n",
            "47% done \n",
            "48% done \n",
            "49% done \n",
            "50% done \n",
            "50% done \n",
            "51% done \n",
            "52% done \n",
            "52% done \n",
            "53% done \n",
            "54% done \n",
            "55% done \n",
            "55% done \n",
            "56% done \n",
            "57% done \n",
            "57% done \n",
            "58% done \n",
            "59% done \n",
            "60% done \n",
            "60% done \n",
            "61% done \n",
            "62% done \n",
            "62% done \n",
            "63% done \n",
            "64% done \n",
            "65% done \n",
            "65% done \n",
            "66% done \n",
            "67% done \n",
            "67% done \n",
            "68% done \n",
            "69% done \n",
            "70% done \n",
            "70% done \n",
            "71% done \n",
            "72% done \n",
            "72% done \n",
            "73% done \n",
            "74% done \n",
            "75% done \n",
            "75% done \n",
            "76% done \n",
            "77% done \n",
            "77% done \n",
            "78% done \n",
            "79% done \n",
            "80% done \n",
            "80% done \n",
            "81% done \n",
            "82% done \n",
            "82% done \n",
            "83% done \n",
            "84% done \n",
            "85% done \n",
            "85% done \n",
            "86% done \n",
            "87% done \n",
            "87% done \n",
            "88% done \n",
            "89% done \n",
            "90% done \n",
            "90% done \n",
            "91% done \n",
            "92% done \n",
            "92% done \n",
            "93% done \n",
            "94% done \n",
            "95% done \n",
            "95% done \n",
            "96% done \n",
            "97% done \n",
            "97% done \n",
            "98% done \n",
            "99% done \n",
            "100% done \n",
            "100% done \n"
          ],
          "name": "stdout"
        }
      ]
    },
    {
      "cell_type": "code",
      "metadata": {
        "id": "MLxhQisSC6YN"
      },
      "source": [
        "## Save cleaned text\r\n",
        "text_cleaned_dict_JB = {files[i]:text_cleaned_JB[i] for i in range(len(text_cleaned_JB))}\r\n",
        "for key in text_cleaned_dict_JB.keys():\r\n",
        "    text = text_cleaned_dict_JB[key]\r\n",
        "    text = text.lower()\r\n",
        "    text_file = codecs.open('Outputs/cleaned_text_data_jb/{}'.format(key), mode='a',encoding='utf-8')\r\n",
        "    text_file.write(text)\r\n",
        "    text_file.close()"
      ],
      "execution_count": 201,
      "outputs": []
    },
    {
      "cell_type": "code",
      "metadata": {
        "id": "rb0W3Ipa46lh"
      },
      "source": [
        "def extract_hyps(files, text_cleaned_dict):\r\n",
        "    \r\n",
        "    ## Loop through the files and organize Hypothesis sentences into a dataframe\r\n",
        "    i = 0\r\n",
        "    for file in files:\r\n",
        "        ## Pull text from the dictionary\r\n",
        "        text = text_cleaned_dict[file]\r\n",
        "        if len(text) == 0: continue\r\n",
        "\r\n",
        "        text = text.lower()\r\n",
        "        \r\n",
        "        ## Use NLTK tokenize to parse text into sentences\r\n",
        "        document = sent_tokenize(text)\r\n",
        "        ## convert all text to lower\r\n",
        "        document = [x.lower() for x in document if len(x.split())>5] \r\n",
        "        \r\n",
        "\r\n",
        "        ## Split based on the occurrence of \"hypothesis:\" Want these on a new line,\r\n",
        "        ## pfls is the document-specific list of hypothesis sentences\r\n",
        "        pfls = ['']\r\n",
        "        for pg in document:\r\n",
        "            ## check if sentence contains a hypothesis-like sentence\r\n",
        "            if 'hypo ' in pg:\r\n",
        "                pfls.append(pg)\r\n",
        "        pfls.remove(pfls[0])\r\n",
        "\r\n",
        "        hyp_statements = ['']\r\n",
        "        ## split the hyp_statements based in occurrence of hypo: (<split>)\r\n",
        "        ## is the split identifier\r\n",
        "        for hyp in pfls:\r\n",
        "            hyp_out = hyp.split('<split>')\r\n",
        "            hyp_out_new = [h for h in hyp_out if 'hypo' in h and len(h.split())>7]\r\n",
        "            hyp_statements.append(hyp_out_new)\r\n",
        "        hyp_statements.remove(hyp_statements[0])\r\n",
        "        ## Flatten the list\r\n",
        "        hyp_statements = [y for x in hyp_statements for y in x]\r\n",
        "        # hyp_statements = [b for b in hyp_statements if b[-1] != ':']\r\n",
        "        hyp_statements = [h for h in hyp_statements if len(h.split()) != 0]\r\n",
        "        \r\n",
        "        ## Just organize the data into a dataframe\r\n",
        "        h_cols = ['h'+str(i) for i in range(len(hyp_statements))]\r\n",
        "        file_cols = [file]*len(hyp_statements)\r\n",
        "        ## Concatenate by document\r\n",
        "        if i == 0:\r\n",
        "            hypothesis = pd.DataFrame({'file_name': file_cols,\r\n",
        "                                       'hypothesis_num': h_cols,\r\n",
        "                                       'sentence': hyp_statements,\r\n",
        "                                       'classification': 'Hypothesis'})\r\n",
        "        else:\r\n",
        "            hold = pd.DataFrame({'file_name': file_cols,\r\n",
        "                                       'hypothesis_num': h_cols,\r\n",
        "                                       'sentence': hyp_statements,\r\n",
        "                                       'classification': 'Hypothesis'})\r\n",
        "            hypothesis = pd.concat([hypothesis, hold],axis=0,ignore_index=True)\r\n",
        "            \r\n",
        "        i = i+1\r\n",
        "    return hypothesis\r\n",
        "    \r\n",
        "hypothesis_sentences = extract_hyps(files, text_cleaned_dict_JB)"
      ],
      "execution_count": 265,
      "outputs": []
    },
    {
      "cell_type": "code",
      "metadata": {
        "id": "xMAPzUioQ5xD"
      },
      "source": [
        "# Save the extracted hypothesis into csv file with  PaperID(filename), Hypothesis/Proposition #  and Hypothesis/Proposition Full Sentence columns\r\n",
        "hypothesis_sentences_csv = hypothesis_sentences[['file_name','hypothesis_num', 'sentence']]\r\n",
        "hypothesis_sentences_csv.columns = ['Paper ID', 'Hypothesis/Proposition #', 'Hypothesis/Proposition Full Sentence']\r\n",
        "hypothesis_sentences_csv.to_csv('/content/drive/My Drive/NLP/PDF/DocText/hypothesis_sentences.csv')"
      ],
      "execution_count": 266,
      "outputs": []
    },
    {
      "cell_type": "code",
      "metadata": {
        "colab": {
          "base_uri": "https://localhost:8080/",
          "height": 402
        },
        "id": "R4vNZlLop25_",
        "outputId": "201ee227-6347-4108-8563-78b9c0b6115f"
      },
      "source": [
        "# Hypothesis sentences used in Training Data\r\n",
        "hypothesis_sentences = hypothesis_sentences[[\"sentence\",\"classification\"]]\r\n",
        "hypothesis_sentences"
      ],
      "execution_count": 203,
      "outputs": [
        {
          "output_type": "execute_result",
          "data": {
            "text/html": [
              "<div>\n",
              "<style scoped>\n",
              "    .dataframe tbody tr th:only-of-type {\n",
              "        vertical-align: middle;\n",
              "    }\n",
              "\n",
              "    .dataframe tbody tr th {\n",
              "        vertical-align: top;\n",
              "    }\n",
              "\n",
              "    .dataframe thead th {\n",
              "        text-align: right;\n",
              "    }\n",
              "</style>\n",
              "<table border=\"1\" class=\"dataframe\">\n",
              "  <thead>\n",
              "    <tr style=\"text-align: right;\">\n",
              "      <th></th>\n",
              "      <th>sentence</th>\n",
              "      <th>classification</th>\n",
              "    </tr>\n",
              "  </thead>\n",
              "  <tbody>\n",
              "    <tr>\n",
              "      <th>0</th>\n",
              "      <td>hypo 1: plants with commitment human resource ...</td>\n",
              "      <td>Hypothesis</td>\n",
              "    </tr>\n",
              "    <tr>\n",
              "      <th>1</th>\n",
              "      <td>hypo 2: turnover will be higher in control hum...</td>\n",
              "      <td>Hypothesis</td>\n",
              "    </tr>\n",
              "    <tr>\n",
              "      <th>2</th>\n",
              "      <td>hypo 3: there will be a stronger negative rela...</td>\n",
              "      <td>Hypothesis</td>\n",
              "    </tr>\n",
              "    <tr>\n",
              "      <th>3</th>\n",
              "      <td>hypo 1: predicts that the presence of a commit...</td>\n",
              "      <td>Hypothesis</td>\n",
              "    </tr>\n",
              "    <tr>\n",
              "      <th>4</th>\n",
              "      <td>hypo 3: states that the negative relationship ...</td>\n",
              "      <td>Hypothesis</td>\n",
              "    </tr>\n",
              "    <tr>\n",
              "      <th>...</th>\n",
              "      <td>...</td>\n",
              "      <td>...</td>\n",
              "    </tr>\n",
              "    <tr>\n",
              "      <th>1153</th>\n",
              "      <td>hypo 6: ethical leadership moderates the indir...</td>\n",
              "      <td>Hypothesis</td>\n",
              "    </tr>\n",
              "    <tr>\n",
              "      <th>1154</th>\n",
              "      <td>hypo 4: , under strong ethical leadership, csr...</td>\n",
              "      <td>Hypothesis</td>\n",
              "    </tr>\n",
              "    <tr>\n",
              "      <th>1155</th>\n",
              "      <td>hypo 6: by estimating the conditional indirect...</td>\n",
              "      <td>Hypothesis</td>\n",
              "    </tr>\n",
              "    <tr>\n",
              "      <th>1156</th>\n",
              "      <td>hypo 6: is thus supported figures 3 and 4 depi...</td>\n",
              "      <td>Hypothesis</td>\n",
              "    </tr>\n",
              "    <tr>\n",
              "      <th>1157</th>\n",
              "      <td>hypo 6: the result of overall conditional indi...</td>\n",
              "      <td>Hypothesis</td>\n",
              "    </tr>\n",
              "  </tbody>\n",
              "</table>\n",
              "<p>1158 rows × 2 columns</p>\n",
              "</div>"
            ],
            "text/plain": [
              "                                               sentence classification\n",
              "0     hypo 1: plants with commitment human resource ...     Hypothesis\n",
              "1     hypo 2: turnover will be higher in control hum...     Hypothesis\n",
              "2     hypo 3: there will be a stronger negative rela...     Hypothesis\n",
              "3     hypo 1: predicts that the presence of a commit...     Hypothesis\n",
              "4     hypo 3: states that the negative relationship ...     Hypothesis\n",
              "...                                                 ...            ...\n",
              "1153  hypo 6: ethical leadership moderates the indir...     Hypothesis\n",
              "1154  hypo 4: , under strong ethical leadership, csr...     Hypothesis\n",
              "1155  hypo 6: by estimating the conditional indirect...     Hypothesis\n",
              "1156  hypo 6: is thus supported figures 3 and 4 depi...     Hypothesis\n",
              "1157  hypo 6: the result of overall conditional indi...     Hypothesis\n",
              "\n",
              "[1158 rows x 2 columns]"
            ]
          },
          "metadata": {
            "tags": []
          },
          "execution_count": 203
        }
      ]
    },
    {
      "cell_type": "code",
      "metadata": {
        "id": "UkA6UuXM8Nm-"
      },
      "source": [
        "def extract_non_hyps(files, text_cleaned_dict):\r\n",
        "    \r\n",
        "    ## Loop through the files and organize Non Hypothesis sentences into a dataframe\r\n",
        "    i = 0\r\n",
        "    for file in files:\r\n",
        "        ## Pull text from the dictionary\r\n",
        "        text = text_cleaned_dict[file]\r\n",
        "        if len(text) == 0: continue\r\n",
        "\r\n",
        "        text = text.lower()\r\n",
        "        \r\n",
        "        ## Use NLTK tokenize to parse text into sentences\r\n",
        "        document = sent_tokenize(text)\r\n",
        "        ## convert all text to lower\r\n",
        "        document = [x.lower() for x in document if len(x.split())>5] \r\n",
        "\r\n",
        "        pfls = ['']\r\n",
        "        for pg in document:\r\n",
        "            ## Non hypothesis sentences for training data\r\n",
        "            if not 'hypo ' in pg or not 'hypothesis' in pg or not 'hypotheses' in pg and len(pg)>10:\r\n",
        "                pfls.append(pg)\r\n",
        "        pfls.remove(pfls[0])\r\n",
        "        \r\n",
        "        ## Just organize the data into a dataframe\r\n",
        "        file_cols = [file]*len(pfls)\r\n",
        "        ## Concatenate by document\r\n",
        "        if i == 0:\r\n",
        "            non_hypothesis = pd.DataFrame({'file_name': file_cols,\r\n",
        "                                       'sentence': pfls,\r\n",
        "                                       'classification': 'Non_Hypothesis'})\r\n",
        "        else:\r\n",
        "            hold = pd.DataFrame({'file_name': file_cols,\r\n",
        "                                       'sentence': pfls,\r\n",
        "                                       'classification': 'Non_Hypothesis'})\r\n",
        "            non_hypothesis = pd.concat([non_hypothesis, hold],axis=0,ignore_index=True)\r\n",
        "            \r\n",
        "        i = i+1\r\n",
        "    return non_hypothesis\r\n",
        "    \r\n",
        "non_hypothesis = extract_non_hyps(files, text_cleaned_dict_JB)"
      ],
      "execution_count": 204,
      "outputs": []
    },
    {
      "cell_type": "code",
      "metadata": {
        "colab": {
          "base_uri": "https://localhost:8080/",
          "height": 402
        },
        "id": "uzYGxny24EXV",
        "outputId": "ce99097d-f18a-47df-a84e-6db3ad436ef7"
      },
      "source": [
        "# Non Hypothesis sentences used in Training Data\r\n",
        "# Trimming Non Hypothesis sentences to balance the training data\r\n",
        "non_hypothesis_sentences = non_hypothesis.sample(n=1142)\r\n",
        "non_hypothesis_sentences= non_hypothesis_sentences[[\"sentence\",\"classification\"]]\r\n",
        "non_hypothesis_sentences"
      ],
      "execution_count": 241,
      "outputs": [
        {
          "output_type": "execute_result",
          "data": {
            "text/html": [
              "<div>\n",
              "<style scoped>\n",
              "    .dataframe tbody tr th:only-of-type {\n",
              "        vertical-align: middle;\n",
              "    }\n",
              "\n",
              "    .dataframe tbody tr th {\n",
              "        vertical-align: top;\n",
              "    }\n",
              "\n",
              "    .dataframe thead th {\n",
              "        text-align: right;\n",
              "    }\n",
              "</style>\n",
              "<table border=\"1\" class=\"dataframe\">\n",
              "  <thead>\n",
              "    <tr style=\"text-align: right;\">\n",
              "      <th></th>\n",
              "      <th>sentence</th>\n",
              "      <th>classification</th>\n",
              "    </tr>\n",
              "  </thead>\n",
              "  <tbody>\n",
              "    <tr>\n",
              "      <th>16519</th>\n",
              "      <td>the residual scores ensured the independence o...</td>\n",
              "      <td>Non_Hypothesis</td>\n",
              "    </tr>\n",
              "    <tr>\n",
              "      <th>9665</th>\n",
              "      <td>this may explain why the relationship between ...</td>\n",
              "      <td>Non_Hypothesis</td>\n",
              "    </tr>\n",
              "    <tr>\n",
              "      <th>9926</th>\n",
              "      <td>all subscales displayed good internal reliabil...</td>\n",
              "      <td>Non_Hypothesis</td>\n",
              "    </tr>\n",
              "    <tr>\n",
              "      <th>6922</th>\n",
              "      <td>pay dispersion was measured with a gini coeffi...</td>\n",
              "      <td>Non_Hypothesis</td>\n",
              "    </tr>\n",
              "    <tr>\n",
              "      <th>12353</th>\n",
              "      <td>solutions to environmental downloaded by natio...</td>\n",
              "      <td>Non_Hypothesis</td>\n",
              "    </tr>\n",
              "    <tr>\n",
              "      <th>...</th>\n",
              "      <td>...</td>\n",
              "      <td>...</td>\n",
              "    </tr>\n",
              "    <tr>\n",
              "      <th>17962</th>\n",
              "      <td>they covered nine main areas of hrm: recruitme...</td>\n",
              "      <td>Non_Hypothesis</td>\n",
              "    </tr>\n",
              "    <tr>\n",
              "      <th>21384</th>\n",
              "      <td>second, we veriﬁed empirically this typology, ...</td>\n",
              "      <td>Non_Hypothesis</td>\n",
              "    </tr>\n",
              "    <tr>\n",
              "      <th>13656</th>\n",
              "      <td>thus, in this framework there are some attribu...</td>\n",
              "      <td>Non_Hypothesis</td>\n",
              "    </tr>\n",
              "    <tr>\n",
              "      <th>8182</th>\n",
              "      <td>human resource management doi: 10.1002/hrm str...</td>\n",
              "      <td>Non_Hypothesis</td>\n",
              "    </tr>\n",
              "    <tr>\n",
              "      <th>18045</th>\n",
              "      <td>in summary, there is evidence, based on estima...</td>\n",
              "      <td>Non_Hypothesis</td>\n",
              "    </tr>\n",
              "  </tbody>\n",
              "</table>\n",
              "<p>1142 rows × 2 columns</p>\n",
              "</div>"
            ],
            "text/plain": [
              "                                                sentence  classification\n",
              "16519  the residual scores ensured the independence o...  Non_Hypothesis\n",
              "9665   this may explain why the relationship between ...  Non_Hypothesis\n",
              "9926   all subscales displayed good internal reliabil...  Non_Hypothesis\n",
              "6922   pay dispersion was measured with a gini coeffi...  Non_Hypothesis\n",
              "12353  solutions to environmental downloaded by natio...  Non_Hypothesis\n",
              "...                                                  ...             ...\n",
              "17962  they covered nine main areas of hrm: recruitme...  Non_Hypothesis\n",
              "21384  second, we veriﬁed empirically this typology, ...  Non_Hypothesis\n",
              "13656  thus, in this framework there are some attribu...  Non_Hypothesis\n",
              "8182   human resource management doi: 10.1002/hrm str...  Non_Hypothesis\n",
              "18045  in summary, there is evidence, based on estima...  Non_Hypothesis\n",
              "\n",
              "[1142 rows x 2 columns]"
            ]
          },
          "metadata": {
            "tags": []
          },
          "execution_count": 241
        }
      ]
    },
    {
      "cell_type": "code",
      "metadata": {
        "colab": {
          "base_uri": "https://localhost:8080/",
          "height": 402
        },
        "id": "aECK6FhOdpwC",
        "outputId": "800ffd2a-49ae-4585-a918-ee657c65efe2"
      },
      "source": [
        "hypothesis_classification = hypothesis_sentences.append(non_hypothesis_sentences, ignore_index=True)\r\n",
        "hypothesis_classification"
      ],
      "execution_count": 242,
      "outputs": [
        {
          "output_type": "execute_result",
          "data": {
            "text/html": [
              "<div>\n",
              "<style scoped>\n",
              "    .dataframe tbody tr th:only-of-type {\n",
              "        vertical-align: middle;\n",
              "    }\n",
              "\n",
              "    .dataframe tbody tr th {\n",
              "        vertical-align: top;\n",
              "    }\n",
              "\n",
              "    .dataframe thead th {\n",
              "        text-align: right;\n",
              "    }\n",
              "</style>\n",
              "<table border=\"1\" class=\"dataframe\">\n",
              "  <thead>\n",
              "    <tr style=\"text-align: right;\">\n",
              "      <th></th>\n",
              "      <th>sentence</th>\n",
              "      <th>classification</th>\n",
              "    </tr>\n",
              "  </thead>\n",
              "  <tbody>\n",
              "    <tr>\n",
              "      <th>0</th>\n",
              "      <td>hypo 1: plants with commitment human resource ...</td>\n",
              "      <td>Hypothesis</td>\n",
              "    </tr>\n",
              "    <tr>\n",
              "      <th>1</th>\n",
              "      <td>hypo 2: turnover will be higher in control hum...</td>\n",
              "      <td>Hypothesis</td>\n",
              "    </tr>\n",
              "    <tr>\n",
              "      <th>2</th>\n",
              "      <td>hypo 3: there will be a stronger negative rela...</td>\n",
              "      <td>Hypothesis</td>\n",
              "    </tr>\n",
              "    <tr>\n",
              "      <th>3</th>\n",
              "      <td>hypo 1: predicts that the presence of a commit...</td>\n",
              "      <td>Hypothesis</td>\n",
              "    </tr>\n",
              "    <tr>\n",
              "      <th>4</th>\n",
              "      <td>hypo 3: states that the negative relationship ...</td>\n",
              "      <td>Hypothesis</td>\n",
              "    </tr>\n",
              "    <tr>\n",
              "      <th>...</th>\n",
              "      <td>...</td>\n",
              "      <td>...</td>\n",
              "    </tr>\n",
              "    <tr>\n",
              "      <th>2295</th>\n",
              "      <td>they covered nine main areas of hrm: recruitme...</td>\n",
              "      <td>Non_Hypothesis</td>\n",
              "    </tr>\n",
              "    <tr>\n",
              "      <th>2296</th>\n",
              "      <td>second, we veriﬁed empirically this typology, ...</td>\n",
              "      <td>Non_Hypothesis</td>\n",
              "    </tr>\n",
              "    <tr>\n",
              "      <th>2297</th>\n",
              "      <td>thus, in this framework there are some attribu...</td>\n",
              "      <td>Non_Hypothesis</td>\n",
              "    </tr>\n",
              "    <tr>\n",
              "      <th>2298</th>\n",
              "      <td>human resource management doi: 10.1002/hrm str...</td>\n",
              "      <td>Non_Hypothesis</td>\n",
              "    </tr>\n",
              "    <tr>\n",
              "      <th>2299</th>\n",
              "      <td>in summary, there is evidence, based on estima...</td>\n",
              "      <td>Non_Hypothesis</td>\n",
              "    </tr>\n",
              "  </tbody>\n",
              "</table>\n",
              "<p>2300 rows × 2 columns</p>\n",
              "</div>"
            ],
            "text/plain": [
              "                                               sentence  classification\n",
              "0     hypo 1: plants with commitment human resource ...      Hypothesis\n",
              "1     hypo 2: turnover will be higher in control hum...      Hypothesis\n",
              "2     hypo 3: there will be a stronger negative rela...      Hypothesis\n",
              "3     hypo 1: predicts that the presence of a commit...      Hypothesis\n",
              "4     hypo 3: states that the negative relationship ...      Hypothesis\n",
              "...                                                 ...             ...\n",
              "2295  they covered nine main areas of hrm: recruitme...  Non_Hypothesis\n",
              "2296  second, we veriﬁed empirically this typology, ...  Non_Hypothesis\n",
              "2297  thus, in this framework there are some attribu...  Non_Hypothesis\n",
              "2298  human resource management doi: 10.1002/hrm str...  Non_Hypothesis\n",
              "2299  in summary, there is evidence, based on estima...  Non_Hypothesis\n",
              "\n",
              "[2300 rows x 2 columns]"
            ]
          },
          "metadata": {
            "tags": []
          },
          "execution_count": 242
        }
      ]
    },
    {
      "cell_type": "code",
      "metadata": {
        "id": "md47he5By3WY"
      },
      "source": [
        "from sklearn.feature_extraction.text import TfidfTransformer\r\n",
        "from sklearn.feature_extraction.text import CountVectorizer\r\n",
        "from sklearn.naive_bayes import MultinomialNB\r\n",
        "from sklearn.model_selection import train_test_split"
      ],
      "execution_count": 243,
      "outputs": []
    },
    {
      "cell_type": "code",
      "metadata": {
        "id": "24G5CFnmes9Z"
      },
      "source": [
        "# Splitting the data into training and test data \r\n",
        "training_data, test_data = train_test_split(hypothesis_classification, test_size = 0.1, random_state = 0)"
      ],
      "execution_count": 244,
      "outputs": []
    },
    {
      "cell_type": "code",
      "metadata": {
        "id": "Bk7CS6skgMrN"
      },
      "source": [
        "# Text Classification with Multinomial Naive Bayes\r\n",
        "# combined all rows of the 'sentence' column\r\n",
        "list_text = []\r\n",
        "for words in training_data.sentence:\r\n",
        "  list_text.append(words)\r\n",
        "\r\n",
        "# Preprocessing data to feed into MultinomialNB Classifier\r\n",
        "count_vect = CountVectorizer()\r\n",
        "Text_train_counts = count_vect.fit_transform(list_text)\r\n",
        "count_vect.vocabulary_.get(u'algorithm')\r\n",
        "tf_transformer = TfidfTransformer(use_idf=False).fit(Text_train_counts)\r\n",
        "X_train_tf = tf_transformer.transform(Text_train_counts)\r\n",
        "tfidf_transformer = TfidfTransformer()\r\n",
        "Text_train_tfidf = tfidf_transformer.fit_transform(Text_train_counts)"
      ],
      "execution_count": 256,
      "outputs": []
    },
    {
      "cell_type": "code",
      "metadata": {
        "id": "TieTFmSohKme"
      },
      "source": [
        "# Using MultinomialNB from sklearn.naive_bayes \r\n",
        "clf = MultinomialNB().fit(Text_train_tfidf, training_data.classification)"
      ],
      "execution_count": 257,
      "outputs": []
    },
    {
      "cell_type": "code",
      "metadata": {
        "id": "svVuZHu6iFit"
      },
      "source": [
        "# Evaluation Model performance on the Test data\r\n",
        "sentence_list = test_data['sentence'].to_list()\r\n",
        "Text_new_counts = count_vect.transform(sentence_list)\r\n",
        "Text_new_tfidf = tfidf_transformer.transform(Text_new_counts)\r\n",
        "predicted = clf.predict(Text_new_tfidf)\r\n",
        "classification_prediction_list =[]\r\n",
        "for sentence, classification in zip(sentence_list, predicted):\r\n",
        "  classification_prediction_list.append(classification)\r\n"
      ],
      "execution_count": 258,
      "outputs": []
    },
    {
      "cell_type": "code",
      "metadata": {
        "colab": {
          "base_uri": "https://localhost:8080/"
        },
        "id": "HOHkSz8KkW7c",
        "outputId": "b3194600-7f5b-413e-9e95-c782e7392df7"
      },
      "source": [
        "# Naive_Bayes Model metrics\r\n",
        "classification_list = test_data['classification'].to_list()\r\n",
        "count = 0\r\n",
        "for i in range(len(classification_list)):\r\n",
        "  if classification_list[i]==classification_prediction_list[i]:\r\n",
        "    count = count + 1\r\n",
        "Accuracy = (count/len(classification_list))*100\r\n",
        "print(\"Accuracy of MultinomialNB based text classification: {:.2f}\".format(Accuracy))"
      ],
      "execution_count": 259,
      "outputs": [
        {
          "output_type": "stream",
          "text": [
            "Accuracy of MultinomialNB based text classification: 82.61\n"
          ],
          "name": "stdout"
        }
      ]
    },
    {
      "cell_type": "code",
      "metadata": {
        "colab": {
          "base_uri": "https://localhost:8080/"
        },
        "id": "vX3L55-sowOu",
        "outputId": "55eaa8c2-2f5e-4e70-d083-c2ffa9bfce35"
      },
      "source": [
        "pip install fasttext"
      ],
      "execution_count": 249,
      "outputs": [
        {
          "output_type": "stream",
          "text": [
            "Requirement already satisfied: fasttext in /usr/local/lib/python3.6/dist-packages (0.9.2)\n",
            "Requirement already satisfied: setuptools>=0.7.0 in /usr/local/lib/python3.6/dist-packages (from fasttext) (53.0.0)\n",
            "Requirement already satisfied: pybind11>=2.2 in /usr/local/lib/python3.6/dist-packages (from fasttext) (2.6.2)\n",
            "Requirement already satisfied: numpy in /usr/local/lib/python3.6/dist-packages (from fasttext) (1.19.5)\n"
          ],
          "name": "stdout"
        }
      ]
    },
    {
      "cell_type": "code",
      "metadata": {
        "id": "27V9MkGW6cuQ"
      },
      "source": [
        "# Text Classification with fasttext\r\n",
        "\r\n",
        "#Importing fasttext and other required packages\r\n",
        "import fasttext\r\n",
        "import csv\r\n",
        "\r\n",
        "# NLP Preprocessing\r\n",
        "from gensim.utils import simple_preprocess\r\n",
        "\r\n",
        "# NLP Preprocess\r\n",
        "training_data.iloc[:, 0] = training_data.iloc[:, 0].apply(lambda x: ' '.join(simple_preprocess(x)))\r\n",
        "test_data.iloc[:, 0] = test_data.iloc[:, 0].apply(lambda x: ' '.join(simple_preprocess(x)))\r\n",
        "\r\n",
        "# Prefixing each row of the category column with '__label__'\r\n",
        "training_data.iloc[:, 1] = training_data.iloc[:, 1].apply(lambda x: '__label__' + x)\r\n",
        "test_data.iloc[:, 1] = test_data.iloc[:, 1].apply(lambda x: '__label__' + x)"
      ],
      "execution_count": 250,
      "outputs": []
    },
    {
      "cell_type": "code",
      "metadata": {
        "colab": {
          "base_uri": "https://localhost:8080/"
        },
        "id": "SkxiHVTU7XIX",
        "outputId": "5c0eeeb6-977a-4e74-d79a-fce65b93faf6"
      },
      "source": [
        "# Saving the CSV file as a text file to train and test the classifier\r\n",
        "training_data[['classification', 'sentence']].to_csv('/content/drive/My Drive/NLP/PDF/DocText/training_data.txt', \r\n",
        "                                          index = False, \r\n",
        "                                          sep = ' ',\r\n",
        "                                          header = None, \r\n",
        "                                          quoting = csv.QUOTE_NONE, \r\n",
        "                                          quotechar = \"\", \r\n",
        "                                          escapechar = \" \")\r\n",
        "\r\n",
        "test_data[['classification', 'sentence']].to_csv('/content/drive/My Drive/NLP/PDF/DocText/test_data.txt', \r\n",
        "                                     index = False, \r\n",
        "                                     sep = ' ',\r\n",
        "                                     header = None, \r\n",
        "                                     quoting = csv.QUOTE_NONE, \r\n",
        "                                     quotechar = \"\", \r\n",
        "                                     escapechar = \" \")\r\n",
        "\r\n",
        "\r\n",
        "# Training the fastText classifier\r\n",
        "model = fasttext.train_supervised('/content/drive/My Drive/NLP/PDF/DocText/training_data.txt', wordNgrams = 2, lr = 0.3, dim = 200, loss=\"ns\")\r\n",
        "\r\n",
        "# Predicting on a single input\r\n",
        "model.predict(test_data.iloc[2, 0])"
      ],
      "execution_count": 251,
      "outputs": [
        {
          "output_type": "execute_result",
          "data": {
            "text/plain": [
              "(('__label__Non_Hypothesis',), array([0.99409896]))"
            ]
          },
          "metadata": {
            "tags": []
          },
          "execution_count": 251
        }
      ]
    },
    {
      "cell_type": "code",
      "metadata": {
        "colab": {
          "base_uri": "https://localhost:8080/"
        },
        "id": "QLAkvWAN0oCm",
        "outputId": "fb04d669-0f1d-4b7e-e4b4-9d75832c2e0d"
      },
      "source": [
        "# Evaluating performance on the entire test data\r\n",
        "# Fasttext Model metrics\r\n",
        "print(model.labels)\r\n",
        "def print_results(N, p, r):\r\n",
        "    print(\"N\\t\" + str(N))\r\n",
        "    print(\"P@{}\\t{:.3f}\".format(1, p))\r\n",
        "    print(\"R@{}\\t{:.3f}\".format(1, r))\r\n",
        "    print(\"Accuracy of Fasttext based text classification: {:.2f}\".format(p*100))\r\n",
        "\r\n",
        "print_results(*model.test('/content/drive/My Drive/NLP/PDF/DocText/test_data.txt'))"
      ],
      "execution_count": 254,
      "outputs": [
        {
          "output_type": "stream",
          "text": [
            "['__label__Non_Hypothesis', '__label__Hypothesis']\n",
            "N\t230\n",
            "P@1\t0.974\n",
            "R@1\t0.974\n",
            "Accuracy of Fasttext based text classification: 97.4\n"
          ],
          "name": "stdout"
        }
      ]
    }
  ]
}